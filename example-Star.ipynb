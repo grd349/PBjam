{
 "cells": [
  {
   "cell_type": "code",
   "execution_count": 1,
   "id": "e5faf035",
   "metadata": {},
   "outputs": [
    {
     "name": "stderr",
     "output_type": "stream",
     "text": [
      "WARNING:jax._src.lib.xla_bridge:No GPU/TPU found, falling back to CPU. (Set TF_CPP_MIN_LOG_LEVEL=0 and rerun for more info.)\n"
     ]
    }
   ],
   "source": [
    "%load_ext autoreload\n",
    "%autoreload 2\n",
    "from pbjam import IO\n",
    "from pbjam.star import star"
   ]
  },
  {
   "cell_type": "code",
   "execution_count": 2,
   "id": "9e1e409d",
   "metadata": {},
   "outputs": [
    {
     "name": "stdout",
     "output_type": "stream",
     "text": [
      "Using cached search result.\n",
      "Loading fits files from cache.\n"
     ]
    }
   ],
   "source": [
    "psd = IO.psd('KIC10963065', lk_kwargs={'quarter': (6), 'exptime': 60, 'mission':'Kepler', 'author':'Kepler'})\n",
    "\n",
    "psd()\n",
    "\n",
    "f = psd.freq[::10]\n",
    "\n",
    "s = psd.powerdensity[::10]"
   ]
  },
  {
   "cell_type": "code",
   "execution_count": 3,
   "id": "89e01ffb",
   "metadata": {},
   "outputs": [],
   "source": [
    "import pbjam.distributions as dist\n",
    "\n",
    "addPriors = {'nurot_c': dist.uniform(loc=-2.1, scale=1.1) # Core rotation rate in log(muHz)\n",
    "            }"
   ]
  },
  {
   "cell_type": "code",
   "execution_count": 4,
   "id": "815f514b",
   "metadata": {},
   "outputs": [],
   "source": [
    "addObs = {'numax': (2204, 100),\n",
    "          'dnu'  : (103.2, 0.54),\n",
    "          'teff' : (6140, 77),\n",
    "          'bp_rp': (0.70026, 0.05),\n",
    "          }"
   ]
  },
  {
   "cell_type": "code",
   "execution_count": 5,
   "id": "7a441d1f",
   "metadata": {},
   "outputs": [],
   "source": [
    "S = star('KIC10963065', f, s, addObs)"
   ]
  },
  {
   "cell_type": "code",
   "execution_count": 6,
   "id": "8ca12ea7",
   "metadata": {},
   "outputs": [
    {
     "name": "stderr",
     "output_type": "stream",
     "text": [
      "5220it [02:38, 32.99it/s, +100 | bound: 330 | nc: 1 | ncall: 168606 | eff(%):  3.157 | loglstar:   -inf < -33289.383 <    inf | logz: -33339.087 +/-  0.684 | dlogz:  0.001 >  0.109]\n"
     ]
    },
    {
     "name": "stdout",
     "output_type": "stream",
     "text": [
      "Starting peakbagging\n"
     ]
    },
    {
     "name": "stderr",
     "output_type": "stream",
     "text": [
      "15199it [04:06, 61.55it/s, +300 | bound: 335 | nc: 1 | ncall: 1364663 | eff(%):  1.136 | loglstar:   -inf < -6957.872 <    inf | logz: -7007.410 +/-  0.381 | dlogz:  0.001 >  0.309]\n"
     ]
    }
   ],
   "source": [
    "peakbag_summary, modeID_result = S(modeID_kwargs={'addPriors': addPriors})"
   ]
  }
 ],
 "metadata": {
  "kernelspec": {
   "display_name": "Python 3 (ipykernel)",
   "language": "python",
   "name": "python3"
  },
  "language_info": {
   "codemirror_mode": {
    "name": "ipython",
    "version": 3
   },
   "file_extension": ".py",
   "mimetype": "text/x-python",
   "name": "python",
   "nbconvert_exporter": "python",
   "pygments_lexer": "ipython3",
   "version": "3.10.6"
  }
 },
 "nbformat": 4,
 "nbformat_minor": 5
}
