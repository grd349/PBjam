{
 "cells": [
  {
   "cell_type": "code",
   "execution_count": 1,
   "id": "84750c11",
   "metadata": {},
   "outputs": [],
   "source": [
    "import numpy as np\n",
    "import matplotlib.pyplot as plt\n",
    "import pandas as pd\n",
    "import corner\n",
    "import scipy.stats as stats"
   ]
  },
  {
   "cell_type": "code",
   "execution_count": 2,
   "id": "89688f11",
   "metadata": {},
   "outputs": [
    {
     "data": {
      "text/html": [
       "<div>\n",
       "<style scoped>\n",
       "    .dataframe tbody tr th:only-of-type {\n",
       "        vertical-align: middle;\n",
       "    }\n",
       "\n",
       "    .dataframe tbody tr th {\n",
       "        vertical-align: top;\n",
       "    }\n",
       "\n",
       "    .dataframe thead th {\n",
       "        text-align: right;\n",
       "    }\n",
       "</style>\n",
       "<table border=\"1\" class=\"dataframe\">\n",
       "  <thead>\n",
       "    <tr style=\"text-align: right;\">\n",
       "      <th></th>\n",
       "      <th>numax</th>\n",
       "      <th>dnu</th>\n",
       "      <th>teff</th>\n",
       "      <th>bp_rp</th>\n",
       "      <th>eps_p</th>\n",
       "      <th>d02</th>\n",
       "      <th>alpha_p</th>\n",
       "      <th>env_height</th>\n",
       "      <th>env_width</th>\n",
       "      <th>mode_width</th>\n",
       "      <th>H1_nu</th>\n",
       "      <th>H1_exp</th>\n",
       "      <th>H_power</th>\n",
       "      <th>H2_nu</th>\n",
       "      <th>H2_exp</th>\n",
       "      <th>d01</th>\n",
       "    </tr>\n",
       "  </thead>\n",
       "  <tbody>\n",
       "    <tr>\n",
       "      <th>0</th>\n",
       "      <td>3.484414</td>\n",
       "      <td>2.135390</td>\n",
       "      <td>3.767956</td>\n",
       "      <td>0.802151</td>\n",
       "      <td>1.401072</td>\n",
       "      <td>0.979284</td>\n",
       "      <td>-3.080202</td>\n",
       "      <td>0.225126</td>\n",
       "      <td>2.456441</td>\n",
       "      <td>0.128703</td>\n",
       "      <td>3.298061</td>\n",
       "      <td>2.921364</td>\n",
       "      <td>2.848890</td>\n",
       "      <td>2.830882</td>\n",
       "      <td>4.041411</td>\n",
       "      <td>1.797920</td>\n",
       "    </tr>\n",
       "    <tr>\n",
       "      <th>1</th>\n",
       "      <td>3.493150</td>\n",
       "      <td>2.141782</td>\n",
       "      <td>3.756890</td>\n",
       "      <td>0.848493</td>\n",
       "      <td>1.482945</td>\n",
       "      <td>0.983385</td>\n",
       "      <td>-2.966572</td>\n",
       "      <td>0.536584</td>\n",
       "      <td>2.465763</td>\n",
       "      <td>0.094484</td>\n",
       "      <td>3.374310</td>\n",
       "      <td>3.515384</td>\n",
       "      <td>2.826130</td>\n",
       "      <td>2.836148</td>\n",
       "      <td>3.183972</td>\n",
       "      <td>1.809857</td>\n",
       "    </tr>\n",
       "    <tr>\n",
       "      <th>2</th>\n",
       "      <td>3.475558</td>\n",
       "      <td>2.123601</td>\n",
       "      <td>3.778466</td>\n",
       "      <td>0.750007</td>\n",
       "      <td>1.287302</td>\n",
       "      <td>0.970585</td>\n",
       "      <td>-2.788520</td>\n",
       "      <td>0.386517</td>\n",
       "      <td>2.501444</td>\n",
       "      <td>0.277879</td>\n",
       "      <td>3.394467</td>\n",
       "      <td>3.224052</td>\n",
       "      <td>2.804860</td>\n",
       "      <td>2.834453</td>\n",
       "      <td>2.820455</td>\n",
       "      <td>1.795310</td>\n",
       "    </tr>\n",
       "    <tr>\n",
       "      <th>3</th>\n",
       "      <td>3.489894</td>\n",
       "      <td>2.137486</td>\n",
       "      <td>3.758812</td>\n",
       "      <td>0.839171</td>\n",
       "      <td>1.458507</td>\n",
       "      <td>0.981102</td>\n",
       "      <td>-2.804012</td>\n",
       "      <td>0.649857</td>\n",
       "      <td>2.511151</td>\n",
       "      <td>0.144498</td>\n",
       "      <td>3.420310</td>\n",
       "      <td>3.855495</td>\n",
       "      <td>2.828574</td>\n",
       "      <td>2.846784</td>\n",
       "      <td>3.299784</td>\n",
       "      <td>1.807003</td>\n",
       "    </tr>\n",
       "    <tr>\n",
       "      <th>4</th>\n",
       "      <td>3.489919</td>\n",
       "      <td>2.138049</td>\n",
       "      <td>3.765160</td>\n",
       "      <td>0.813639</td>\n",
       "      <td>1.416170</td>\n",
       "      <td>0.982102</td>\n",
       "      <td>-2.896754</td>\n",
       "      <td>0.453859</td>\n",
       "      <td>2.513932</td>\n",
       "      <td>0.168972</td>\n",
       "      <td>3.399499</td>\n",
       "      <td>3.832885</td>\n",
       "      <td>2.830916</td>\n",
       "      <td>2.853358</td>\n",
       "      <td>3.834102</td>\n",
       "      <td>1.804794</td>\n",
       "    </tr>\n",
       "  </tbody>\n",
       "</table>\n",
       "</div>"
      ],
      "text/plain": [
       "      numax       dnu      teff     bp_rp     eps_p       d02   alpha_p  \\\n",
       "0  3.484414  2.135390  3.767956  0.802151  1.401072  0.979284 -3.080202   \n",
       "1  3.493150  2.141782  3.756890  0.848493  1.482945  0.983385 -2.966572   \n",
       "2  3.475558  2.123601  3.778466  0.750007  1.287302  0.970585 -2.788520   \n",
       "3  3.489894  2.137486  3.758812  0.839171  1.458507  0.981102 -2.804012   \n",
       "4  3.489919  2.138049  3.765160  0.813639  1.416170  0.982102 -2.896754   \n",
       "\n",
       "   env_height  env_width  mode_width     H1_nu    H1_exp   H_power     H2_nu  \\\n",
       "0    0.225126   2.456441    0.128703  3.298061  2.921364  2.848890  2.830882   \n",
       "1    0.536584   2.465763    0.094484  3.374310  3.515384  2.826130  2.836148   \n",
       "2    0.386517   2.501444    0.277879  3.394467  3.224052  2.804860  2.834453   \n",
       "3    0.649857   2.511151    0.144498  3.420310  3.855495  2.828574  2.846784   \n",
       "4    0.453859   2.513932    0.168972  3.399499  3.832885  2.830916  2.853358   \n",
       "\n",
       "     H2_exp       d01  \n",
       "0  4.041411  1.797920  \n",
       "1  3.183972  1.809857  \n",
       "2  2.820455  1.795310  \n",
       "3  3.299784  1.807003  \n",
       "4  3.834102  1.804794  "
      ]
     },
     "execution_count": 2,
     "metadata": {},
     "output_type": "execute_result"
    }
   ],
   "source": [
    "samples = pd.read_csv('examples_samples.csv')\n",
    "samples.head()"
   ]
  },
  {
   "cell_type": "code",
   "execution_count": 3,
   "id": "910ed2e4",
   "metadata": {},
   "outputs": [],
   "source": [
    "class model():\n",
    "    def __init__(self, nu):\n",
    "        '''  The hard coded value of 20 is a massive fudge ... look at this! '''\n",
    "        self.nu = nu\n",
    "        self.N_p = np.arange(10, 30, 1)\n",
    "        self.vis={'V20': 0.71, 'V10': 1.5}\n",
    "        self.rv_factor = 20.0\n",
    "    \n",
    "    def model_(self, theta_u):\n",
    "        \n",
    "        \n",
    "        # l=2,0\n",
    "        modes, _ = self.addModes(**theta_u)\n",
    "        \n",
    "        # Background\n",
    "        bkg = self.background(theta_u)\n",
    "         \n",
    "        return (modes * bkg) + bkg / self.rv_factor\n",
    "    \n",
    "    def addModes(self, d02, d01, mode_width, **kwargs):\n",
    "         \n",
    "        modes = np.zeros_like(self.nu)\n",
    "        \n",
    "        nu0_p = self.asymptotic_nu_p(**kwargs)\n",
    "\n",
    "        Hs0 = self.envelope(nu0_p, **kwargs)\n",
    "\n",
    "        for i, n in enumerate(self.N_p):\n",
    "\n",
    "            # Adding l=0\n",
    "            modes += self.lor(nu0_p[i], Hs0[i], mode_width) \n",
    "            \n",
    "            # Adding l=2     \n",
    "            H = Hs0[i] * self.vis['V20']\n",
    "            f = nu0_p[i] - d02\n",
    "            modes += self.lor(f, H, mode_width)\n",
    "            \n",
    "            # Adding l=1     \n",
    "            H = Hs0[i] * self.vis['V10']\n",
    "            f = nu0_p[i] + d01\n",
    "            modes += self.lor(f, H, mode_width) \n",
    "\n",
    "        return modes, nu0_p\n",
    "    \n",
    "    def envelope(self, nu, env_height, numax, env_width, **kwargs):\n",
    "        \"\"\" Power of the seismic p-mode envelope\n",
    "    \n",
    "        Computes the power at frequency nu in the oscillation envelope from a \n",
    "        Gaussian distribution. Used for computing mode heights.\n",
    "    \n",
    "        Parameters\n",
    "        ----------\n",
    "        nu : float\n",
    "            Frequency (in muHz).\n",
    "        hmax : float\n",
    "            Height of p-mode envelope (in SNR).\n",
    "        numax : float\n",
    "            Frequency of maximum power of the p-mode envelope (in muHz).\n",
    "        width : float\n",
    "            Width of the p-mode envelope (in muHz).\n",
    "    \n",
    "        Returns\n",
    "        -------\n",
    "        h : float\n",
    "            Power at frequency nu (in SNR)   \n",
    "        \"\"\"\n",
    "    \n",
    "        return self.gaussian(nu, 2*env_height, numax, env_width)\n",
    "    \n",
    "    def gaussian(self, x, A, mu, sigma):\n",
    "        return A*np.exp(-(x-mu)**2/(2*sigma**2))\n",
    "    \n",
    "    def asymptotic_nu_p(self, numax, dnu, eps_p, alpha_p, **kwargs):\n",
    "        \"\"\" Compute the l=0 mode frequencies from the asymptotic relation for\n",
    "        p-modes\n",
    "    \n",
    "        Parameters\n",
    "        ----------\n",
    "        numax : float\n",
    "            Frequency of maximum power of the p-mode envelope (muHz).\n",
    "        dnu : float\n",
    "            Large separation of l=0 modes (muHz).\n",
    "        eps_p : float\n",
    "            Epsilon phase term in asymptotic relation (unitless).\n",
    "        alpha_p : float\n",
    "            Curvature factor of l=0 ridge (second order term, unitless).\n",
    "    \n",
    "        Returns\n",
    "        -------\n",
    "        nu0s : ndarray\n",
    "            Array of l=0 mode frequencies from the asymptotic relation (muHz).\n",
    "            \n",
    "        \"\"\"\n",
    "        \n",
    "        n_p_max = numax / dnu - eps_p\n",
    "\n",
    "        return (self.N_p + eps_p + alpha_p/2*(self.N_p - n_p_max)**2) * dnu\n",
    "    \n",
    "    def lor(self, nu0, h, w):\n",
    "        \"\"\" Lorentzian to describe an oscillation mode.\n",
    "\n",
    "        Parameters\n",
    "        ----------\n",
    "        nu0 : float\n",
    "            Frequency of lorentzian (muHz).\n",
    "        h : float\n",
    "            Height of the lorentizan (SNR).\n",
    "        w : float\n",
    "            Full width of the lorentzian (muHz).\n",
    "\n",
    "        Returns\n",
    "        -------\n",
    "        mode : ndarray\n",
    "            The SNR as a function frequency for a lorentzian.\n",
    "        \"\"\"\n",
    "\n",
    "        return h / (1.0 + 4.0/w**2*(self.nu - nu0)**2)\n",
    "    \n",
    "    def harvey(self, a, b, c):\n",
    "        \"\"\" Harvey-profile\n",
    "\n",
    "        Parameters\n",
    "        ----------\n",
    "        nu : np.array\n",
    "            Frequency axis of the PSD.\n",
    "        a : float\n",
    "            The amplitude (divided by 2 pi) of the Harvey-like profile.\n",
    "        b : float\n",
    "            The characeteristic frequency of the Harvey-like profile.\n",
    "        c : float\n",
    "            The exponent parameter of the Harvey-like profile.\n",
    "\n",
    "        Returns\n",
    "        -------\n",
    "        H : np.array\n",
    "            The Harvey-like profile given the relevant parameters.\n",
    "        \"\"\"\n",
    "         \n",
    "        H = a / b * 1 / (1 + (self.nu / b)**c)\n",
    "\n",
    "        return H\n",
    "\n",
    "    def background(self, theta_u,):\n",
    "        \"\"\"\n",
    "        Calculate the background model.\n",
    "\n",
    "        Parameters\n",
    "        ----------\n",
    "        theta_u : dict\n",
    "            A dictionary of background model parameters.\n",
    "        nu : numpy.ndarray\n",
    "            Array of frequency values.\n",
    "\n",
    "        Returns\n",
    "        -------\n",
    "        array\n",
    "            The calculated background model.\n",
    "\n",
    "        Notes\n",
    "        -----\n",
    "        - Computes the Harvey components H1, H2, and H3 for the given frequency values.\n",
    "        - Calculates the attenuation factor eta.\n",
    "        - Combines the Harvey components with the attenuation factor and shot noise to\n",
    "          compute the background model.\n",
    "        \"\"\"\n",
    "\n",
    "        H1 = self.harvey(theta_u['H_power'], theta_u['H1_nu'], theta_u['H1_exp'],)\n",
    "\n",
    "        H2 = self.harvey(theta_u['H_power'], theta_u['H2_nu'], theta_u['H2_exp'],)\n",
    "        \n",
    "        bkg = (H1 + H2)\n",
    "\n",
    "        return bkg\n",
    "    \n",
    "    def make_timeseries(self):\n",
    "        a = np.zeros_like(self.limit).astype(complex)\n",
    "        a.real += self.limit**0.5 * np.random.randn(len(a))\n",
    "        a.imag += self.limit**0.5 * np.random.randn(len(a))\n",
    "        self.timeseries = np.fft.irfft(a)[:len(a)]\n",
    "        self.times = np.fft.rfftfreq(len(a)*2 - 1, d=self.nu[1]/1e6)[:len(a)]\n",
    "        print(self.times[:10])\n",
    "    \n",
    "    def __call__(self, params: dict):\n",
    "        ''' Makes a power spectrum limit model\n",
    "        \n",
    "        params: dict\n",
    "            A dictionary with a specific set of params that are ... \n",
    "        \n",
    "        '''\n",
    "        self.limit = self.model_(params)\n",
    "        self.make_timeseries()\n",
    "        return self.limit\n",
    "    "
   ]
  },
  {
   "cell_type": "code",
   "execution_count": 52,
   "id": "a3a28bbd",
   "metadata": {},
   "outputs": [
    {
     "name": "stdout",
     "output_type": "stream",
     "text": [
      "[ 0.          3.92156471  7.84312941 11.76469412 15.68625882 19.60782353\n",
      " 23.52938824 27.45095294 31.37251765 35.29408235]\n"
     ]
    }
   ],
   "source": [
    "nu = np.linspace(0, 15*8500, 500000)\n",
    "pdict = {n: v for n, v in zip(samples.columns, samples.loc[100])}\n",
    "exp_list=['dnu', 'numax', 'teff', 'd02', 'alpha_p', 'env_height', 'env_width', 'mode_width', \n",
    "          'H1_nu', 'H_power', 'H2_nu', 'd01']\n",
    "for key in exp_list:\n",
    "    pdict[key] = 10**pdict[key]\n",
    "m = model(nu)\n",
    "limit = m(pdict)"
   ]
  },
  {
   "cell_type": "code",
   "execution_count": 53,
   "id": "a600d84e",
   "metadata": {},
   "outputs": [
    {
     "data": {
      "text/plain": [
       "[<matplotlib.lines.Line2D at 0x7f8be40b8e50>]"
      ]
     },
     "execution_count": 53,
     "metadata": {},
     "output_type": "execute_result"
    },
    {
     "data": {
      "image/png": "[encoded data removed]",
      "text/plain": [
       "<Figure size 432x288 with 1 Axes>"
      ]
     },
     "metadata": {
      "needs_background": "light"
     },
     "output_type": "display_data"
    }
   ],
   "source": [
    "plt.plot(m.nu, np.log10(m.limit))"
   ]
  },
  {
   "cell_type": "code",
   "execution_count": 54,
   "id": "860e039c",
   "metadata": {},
   "outputs": [
    {
     "data": {
      "text/plain": [
       "(2000.0, 3500.0)"
      ]
     },
     "execution_count": 54,
     "metadata": {},
     "output_type": "execute_result"
    },
    {
     "data": {
      "image/png": "[encoded data removed]",
      "text/plain": [
       "<Figure size 432x288 with 1 Axes>"
      ]
     },
     "metadata": {
      "needs_background": "light"
     },
     "output_type": "display_data"
    }
   ],
   "source": [
    "plt.plot(m.nu, (m.limit))\n",
    "plt.xlim([2000, 3500])"
   ]
  },
  {
   "cell_type": "code",
   "execution_count": 56,
   "id": "cb3dca1c",
   "metadata": {},
   "outputs": [
    {
     "name": "stdout",
     "output_type": "stream",
     "text": [
      "(50000,)\n",
      "1.3400429455656935\n"
     ]
    },
    {
     "data": {
      "image/png": "[encoded data removed]",
      "text/plain": [
       "<Figure size 432x288 with 1 Axes>"
      ]
     },
     "metadata": {
      "needs_background": "light"
     },
     "output_type": "display_data"
    }
   ],
   "source": [
    "ts = m.timeseries * 100000\n",
    "plt.plot(m.times, ts)\n",
    "plt.xlim([0, 200000])\n",
    "exposure = 1*10 # in cadences ... needs thought.\n",
    "npts = len(m.timeseries)//exposure\n",
    "integrated = np.mean(np.reshape(ts[:int(np.floor(npts*exposure))], [exposure, npts]), axis=0)\n",
    "print(integrated.shape)\n",
    "plt.plot(m.times[::exposure][:len(integrated)], integrated)\n",
    "print(np.std(integrated))"
   ]
  },
  {
   "cell_type": "code",
   "execution_count": 17,
   "id": "4c0826be",
   "metadata": {},
   "outputs": [
    {
     "data": {
      "image/png": "[encoded data removed]",
      "text/plain": [
       "<Figure size 432x288 with 1 Axes>"
      ]
     },
     "metadata": {
      "needs_background": "light"
     },
     "output_type": "display_data"
    }
   ],
   "source": [
    "tmp = np.fft.rfft(m.timeseries)\n",
    "tmp_int = np.fft.rfft(integrated)\n",
    "f = np.fft.rfftfreq(len(tmp)*2-1, d=m.times[1])\n",
    "f_int = np.fft.rfftfreq(len(tmp_int)*2-1, d=m.times[1])\n",
    "plt.plot(f*1e6, tmp * np.conj(tmp))\n",
    "plt.plot(f_int * 1e6, tmp_int * np.conj(tmp_int))\n",
    "plt.xlim([0, 5000])\n",
    "plt.yscale('log')"
   ]
  },
  {
   "cell_type": "code",
   "execution_count": 50,
   "id": "74d579d2",
   "metadata": {},
   "outputs": [
    {
     "name": "stdout",
     "output_type": "stream",
     "text": [
      "[0.         0.98039118 1.96078235 2.94117353 3.92156471 4.90195588\n",
      " 5.88234706 6.86273824 7.84312941 8.82352059]\n",
      "[1.17404413 0.83253398 0.66268849 0.58151412 0.51862919 0.47190169\n",
      " 0.41717845 0.40819747 0.38127095 0.36382573 0.35535817 0.33478336\n",
      " 0.32745998 0.30440858 0.30604497 0.2841519  0.29885831 0.29342054\n",
      " 0.29705192 0.24677494 0.22899812 0.25651769 0.22948108 0.23333649\n",
      " 0.2459121  0.22737922 0.19154506 0.18476857 0.1995748  0.20291629\n",
      " 0.24370054 0.22598919 0.14928241 0.22554195 0.1808419  0.22836287\n",
      " 0.15230749 0.2302032  0.2162649  0.18458576 0.14964149 0.14478847\n",
      " 0.18633314 0.19570017 0.16044046 0.133541   0.13470598 0.16078194\n",
      " 0.17147183 0.17924074 0.16865588 0.14508138 0.1375896  0.12342151\n",
      " 0.14631403 0.12659674 0.20192596 0.15893176 0.10280446 0.13164896\n",
      " 0.13648934 0.1887191  0.11159052 0.14895285 0.11509807 0.10723538\n",
      " 0.11291407 0.15294628 0.08820581 0.12042924 0.12216433 0.13730743\n",
      " 0.15089906 0.09730408 0.18069557 0.18963265 0.08959773 0.12184991\n",
      " 0.13371951 0.14753019 0.07826605 0.11287687 0.10868024 0.10244395\n",
      " 0.08716388 0.15168525 0.09303045 0.11614232 0.08963661 0.13622418\n",
      " 0.10415665 0.10096736 0.12120053 0.10418322 0.14877554 0.09949633\n",
      " 0.10751309 0.11378965 0.07669429]\n"
     ]
    },
    {
     "data": {
      "image/png": "[encoded data removed]",
      "text/plain": [
       "<Figure size 432x288 with 1 Axes>"
      ]
     },
     "metadata": {
      "needs_background": "light"
     },
     "output_type": "display_data"
    }
   ],
   "source": [
    "m.make_timeseries()\n",
    "ts = m.timeseries * 80000\n",
    "\n",
    "ints = np.arange(2, 200, 2)\n",
    "std_dev = np.zeros(len(ints))\n",
    "for idx, i in enumerate(ints):\n",
    "    exposure = i # in cadences ... needs thought.\n",
    "    npts = len(m.timeseries)//exposure\n",
    "    integrated = np.mean(np.reshape(ts[:int(np.floor(npts*exposure))], [exposure, npts]), axis=0)\n",
    "    std_dev[idx] = np.std(integrated)\n",
    "    \n",
    "plt.plot(ints, std_dev)\n",
    "print(std_dev)\n",
    "plt.xscale('log')\n",
    "plt.yscale('log')"
   ]
  },
  {
   "cell_type": "code",
   "execution_count": null,
   "id": "90bf8a9e",
   "metadata": {},
   "outputs": [],
   "source": []
  }
 ],
 "metadata": {
  "kernelspec": {
   "display_name": "Python 3 (ipykernel)",
   "language": "python",
   "name": "python3"
  },
  "language_info": {
   "codemirror_mode": {
    "name": "ipython",
    "version": 3
   },
   "file_extension": ".py",
   "mimetype": "text/x-python",
   "name": "python",
   "nbconvert_exporter": "python",
   "pygments_lexer": "ipython3",
   "version": "3.9.7"
  }
 },
 "nbformat": 4,
 "nbformat_minor": 5
}
