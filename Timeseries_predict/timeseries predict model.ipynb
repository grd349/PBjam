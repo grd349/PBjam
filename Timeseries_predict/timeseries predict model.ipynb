{
 "cells": [
  {
   "cell_type": "code",
   "execution_count": 5,
   "id": "13b4b3b3",
   "metadata": {},
   "outputs": [],
   "source": [
    "import numpy as np\n",
    "import matplotlib.pyplot as plt\n",
    "import pandas as pd\n",
    "import corner\n",
    "import scipy.stats as stats"
   ]
  },
  {
   "cell_type": "code",
   "execution_count": 6,
   "id": "65a75571",
   "metadata": {},
   "outputs": [
    {
     "data": {
      "text/html": [
       "<div>\n",
       "<style scoped>\n",
       "    .dataframe tbody tr th:only-of-type {\n",
       "        vertical-align: middle;\n",
       "    }\n",
       "\n",
       "    .dataframe tbody tr th {\n",
       "        vertical-align: top;\n",
       "    }\n",
       "\n",
       "    .dataframe thead th {\n",
       "        text-align: right;\n",
       "    }\n",
       "</style>\n",
       "<table border=\"1\" class=\"dataframe\">\n",
       "  <thead>\n",
       "    <tr style=\"text-align: right;\">\n",
       "      <th></th>\n",
       "      <th>numax</th>\n",
       "      <th>dnu</th>\n",
       "      <th>teff</th>\n",
       "      <th>bp_rp</th>\n",
       "      <th>eps_p</th>\n",
       "      <th>d02</th>\n",
       "      <th>alpha_p</th>\n",
       "      <th>env_height</th>\n",
       "      <th>env_width</th>\n",
       "      <th>mode_width</th>\n",
       "      <th>H1_nu</th>\n",
       "      <th>H1_exp</th>\n",
       "      <th>H_power</th>\n",
       "      <th>H2_nu</th>\n",
       "      <th>H2_exp</th>\n",
       "      <th>d01</th>\n",
       "    </tr>\n",
       "  </thead>\n",
       "  <tbody>\n",
       "    <tr>\n",
       "      <th>0</th>\n",
       "      <td>3.484178</td>\n",
       "      <td>2.132648</td>\n",
       "      <td>3.782572</td>\n",
       "      <td>0.738156</td>\n",
       "      <td>1.278594</td>\n",
       "      <td>0.978726</td>\n",
       "      <td>-2.979494</td>\n",
       "      <td>0.109696</td>\n",
       "      <td>2.517224</td>\n",
       "      <td>0.271193</td>\n",
       "      <td>3.370939</td>\n",
       "      <td>3.532155</td>\n",
       "      <td>2.817641</td>\n",
       "      <td>2.857000</td>\n",
       "      <td>4.155426</td>\n",
       "      <td>1.797830</td>\n",
       "    </tr>\n",
       "    <tr>\n",
       "      <th>1</th>\n",
       "      <td>3.479275</td>\n",
       "      <td>2.132511</td>\n",
       "      <td>3.755101</td>\n",
       "      <td>0.865618</td>\n",
       "      <td>1.520082</td>\n",
       "      <td>0.977949</td>\n",
       "      <td>-3.076669</td>\n",
       "      <td>0.445356</td>\n",
       "      <td>2.500005</td>\n",
       "      <td>0.076763</td>\n",
       "      <td>3.422500</td>\n",
       "      <td>5.057560</td>\n",
       "      <td>2.862620</td>\n",
       "      <td>2.858184</td>\n",
       "      <td>4.645556</td>\n",
       "      <td>1.795440</td>\n",
       "    </tr>\n",
       "    <tr>\n",
       "      <th>2</th>\n",
       "      <td>3.472516</td>\n",
       "      <td>2.125861</td>\n",
       "      <td>3.768885</td>\n",
       "      <td>0.792017</td>\n",
       "      <td>1.379751</td>\n",
       "      <td>0.968295</td>\n",
       "      <td>-3.224969</td>\n",
       "      <td>0.165133</td>\n",
       "      <td>2.331582</td>\n",
       "      <td>0.098540</td>\n",
       "      <td>3.231060</td>\n",
       "      <td>1.787406</td>\n",
       "      <td>2.809511</td>\n",
       "      <td>2.776623</td>\n",
       "      <td>1.860218</td>\n",
       "      <td>1.794959</td>\n",
       "    </tr>\n",
       "    <tr>\n",
       "      <th>3</th>\n",
       "      <td>3.475826</td>\n",
       "      <td>2.128877</td>\n",
       "      <td>3.746598</td>\n",
       "      <td>0.894368</td>\n",
       "      <td>1.564405</td>\n",
       "      <td>0.972058</td>\n",
       "      <td>-3.008597</td>\n",
       "      <td>0.694316</td>\n",
       "      <td>2.417552</td>\n",
       "      <td>0.017574</td>\n",
       "      <td>3.383414</td>\n",
       "      <td>3.918385</td>\n",
       "      <td>2.839531</td>\n",
       "      <td>2.811889</td>\n",
       "      <td>2.562828</td>\n",
       "      <td>1.799030</td>\n",
       "    </tr>\n",
       "    <tr>\n",
       "      <th>4</th>\n",
       "      <td>3.491613</td>\n",
       "      <td>2.139441</td>\n",
       "      <td>3.783466</td>\n",
       "      <td>0.733368</td>\n",
       "      <td>1.276918</td>\n",
       "      <td>0.981839</td>\n",
       "      <td>-3.173235</td>\n",
       "      <td>-0.010716</td>\n",
       "      <td>2.454365</td>\n",
       "      <td>0.258546</td>\n",
       "      <td>3.375318</td>\n",
       "      <td>3.524188</td>\n",
       "      <td>2.765579</td>\n",
       "      <td>2.847297</td>\n",
       "      <td>2.963512</td>\n",
       "      <td>1.809083</td>\n",
       "    </tr>\n",
       "  </tbody>\n",
       "</table>\n",
       "</div>"
      ],
      "text/plain": [
       "      numax       dnu      teff     bp_rp     eps_p       d02   alpha_p  \\\n",
       "0  3.484178  2.132648  3.782572  0.738156  1.278594  0.978726 -2.979494   \n",
       "1  3.479275  2.132511  3.755101  0.865618  1.520082  0.977949 -3.076669   \n",
       "2  3.472516  2.125861  3.768885  0.792017  1.379751  0.968295 -3.224969   \n",
       "3  3.475826  2.128877  3.746598  0.894368  1.564405  0.972058 -3.008597   \n",
       "4  3.491613  2.139441  3.783466  0.733368  1.276918  0.981839 -3.173235   \n",
       "\n",
       "   env_height  env_width  mode_width     H1_nu    H1_exp   H_power     H2_nu  \\\n",
       "0    0.109696   2.517224    0.271193  3.370939  3.532155  2.817641  2.857000   \n",
       "1    0.445356   2.500005    0.076763  3.422500  5.057560  2.862620  2.858184   \n",
       "2    0.165133   2.331582    0.098540  3.231060  1.787406  2.809511  2.776623   \n",
       "3    0.694316   2.417552    0.017574  3.383414  3.918385  2.839531  2.811889   \n",
       "4   -0.010716   2.454365    0.258546  3.375318  3.524188  2.765579  2.847297   \n",
       "\n",
       "     H2_exp       d01  \n",
       "0  4.155426  1.797830  \n",
       "1  4.645556  1.795440  \n",
       "2  1.860218  1.794959  \n",
       "3  2.562828  1.799030  \n",
       "4  2.963512  1.809083  "
      ]
     },
     "execution_count": 6,
     "metadata": {},
     "output_type": "execute_result"
    }
   ],
   "source": [
    "samples = pd.read_csv('examples_samples.csv')\n",
    "samples.head()"
   ]
  },
  {
   "cell_type": "code",
   "execution_count": 138,
   "id": "c581775d",
   "metadata": {},
   "outputs": [],
   "source": [
    "class model():\n",
    "    def __init__(self, nu):\n",
    "        '''  The hard coded value of 20 is a massive fudge ... look at this! '''\n",
    "        self.nu = nu\n",
    "        self.N_p = np.arange(10, 30, 1)\n",
    "        self.vis={'V20': 0.71, 'V10': 1.5}\n",
    "        self.rv_factor = 20.0\n",
    "    \n",
    "    def model_(self, theta_u):\n",
    "        \n",
    "        \n",
    "        # l=2,0\n",
    "        modes, _ = self.addModes(**theta_u)\n",
    "        \n",
    "        # Background\n",
    "        bkg = self.background(theta_u)\n",
    "         \n",
    "        return (modes * bkg) + bkg / self.rv_factor\n",
    "    \n",
    "    def addModes(self, d02, d01, mode_width, **kwargs):\n",
    "         \n",
    "        modes = np.zeros_like(self.nu)\n",
    "        \n",
    "        nu0_p = self.asymptotic_nu_p(**kwargs)\n",
    "\n",
    "        Hs0 = self.envelope(nu0_p, **kwargs)\n",
    "\n",
    "        for i, n in enumerate(self.N_p):\n",
    "\n",
    "            # Adding l=0\n",
    "            modes += self.lor(nu0_p[i], Hs0[i], mode_width) \n",
    "            \n",
    "            # Adding l=2     \n",
    "            H = Hs0[i] * self.vis['V20']\n",
    "            f = nu0_p[i] - d02\n",
    "            modes += self.lor(f, H, mode_width)\n",
    "            \n",
    "            # Adding l=1     \n",
    "            H = Hs0[i] * self.vis['V10']\n",
    "            f = nu0_p[i] + d01\n",
    "            modes += self.lor(f, H, mode_width) \n",
    "\n",
    "        return modes, nu0_p\n",
    "    \n",
    "    def envelope(self, nu, env_height, numax, env_width, **kwargs):\n",
    "        \"\"\" Power of the seismic p-mode envelope\n",
    "    \n",
    "        Computes the power at frequency nu in the oscillation envelope from a \n",
    "        Gaussian distribution. Used for computing mode heights.\n",
    "    \n",
    "        Parameters\n",
    "        ----------\n",
    "        nu : float\n",
    "            Frequency (in muHz).\n",
    "        hmax : float\n",
    "            Height of p-mode envelope (in SNR).\n",
    "        numax : float\n",
    "            Frequency of maximum power of the p-mode envelope (in muHz).\n",
    "        width : float\n",
    "            Width of the p-mode envelope (in muHz).\n",
    "    \n",
    "        Returns\n",
    "        -------\n",
    "        h : float\n",
    "            Power at frequency nu (in SNR)   \n",
    "        \"\"\"\n",
    "    \n",
    "        return self.gaussian(nu, 2*env_height, numax, env_width)\n",
    "    \n",
    "    def gaussian(self, x, A, mu, sigma):\n",
    "        return A*np.exp(-(x-mu)**2/(2*sigma**2))\n",
    "    \n",
    "    def asymptotic_nu_p(self, numax, dnu, eps_p, alpha_p, **kwargs):\n",
    "        \"\"\" Compute the l=0 mode frequencies from the asymptotic relation for\n",
    "        p-modes\n",
    "    \n",
    "        Parameters\n",
    "        ----------\n",
    "        numax : float\n",
    "            Frequency of maximum power of the p-mode envelope (muHz).\n",
    "        dnu : float\n",
    "            Large separation of l=0 modes (muHz).\n",
    "        eps_p : float\n",
    "            Epsilon phase term in asymptotic relation (unitless).\n",
    "        alpha_p : float\n",
    "            Curvature factor of l=0 ridge (second order term, unitless).\n",
    "    \n",
    "        Returns\n",
    "        -------\n",
    "        nu0s : ndarray\n",
    "            Array of l=0 mode frequencies from the asymptotic relation (muHz).\n",
    "            \n",
    "        \"\"\"\n",
    "        \n",
    "        n_p_max = numax / dnu - eps_p\n",
    "\n",
    "        return (self.N_p + eps_p + alpha_p/2*(self.N_p - n_p_max)**2) * dnu\n",
    "    \n",
    "    def lor(self, nu0, h, w):\n",
    "        \"\"\" Lorentzian to describe an oscillation mode.\n",
    "\n",
    "        Parameters\n",
    "        ----------\n",
    "        nu0 : float\n",
    "            Frequency of lorentzian (muHz).\n",
    "        h : float\n",
    "            Height of the lorentizan (SNR).\n",
    "        w : float\n",
    "            Full width of the lorentzian (muHz).\n",
    "\n",
    "        Returns\n",
    "        -------\n",
    "        mode : ndarray\n",
    "            The SNR as a function frequency for a lorentzian.\n",
    "        \"\"\"\n",
    "\n",
    "        return h / (1.0 + 4.0/w**2*(self.nu - nu0)**2)\n",
    "    \n",
    "    def harvey(self, a, b, c):\n",
    "        \"\"\" Harvey-profile\n",
    "\n",
    "        Parameters\n",
    "        ----------\n",
    "        nu : np.array\n",
    "            Frequency axis of the PSD.\n",
    "        a : float\n",
    "            The amplitude (divided by 2 pi) of the Harvey-like profile.\n",
    "        b : float\n",
    "            The characeteristic frequency of the Harvey-like profile.\n",
    "        c : float\n",
    "            The exponent parameter of the Harvey-like profile.\n",
    "\n",
    "        Returns\n",
    "        -------\n",
    "        H : np.array\n",
    "            The Harvey-like profile given the relevant parameters.\n",
    "        \"\"\"\n",
    "         \n",
    "        H = a / b * 1 / (1 + (self.nu / b)**c)\n",
    "\n",
    "        return H\n",
    "\n",
    "    def background(self, theta_u,):\n",
    "        \"\"\"\n",
    "        Calculate the background model.\n",
    "\n",
    "        Parameters\n",
    "        ----------\n",
    "        theta_u : dict\n",
    "            A dictionary of background model parameters.\n",
    "        nu : numpy.ndarray\n",
    "            Array of frequency values.\n",
    "\n",
    "        Returns\n",
    "        -------\n",
    "        array\n",
    "            The calculated background model.\n",
    "\n",
    "        Notes\n",
    "        -----\n",
    "        - Computes the Harvey components H1, H2, and H3 for the given frequency values.\n",
    "        - Calculates the attenuation factor eta.\n",
    "        - Combines the Harvey components with the attenuation factor and shot noise to\n",
    "          compute the background model.\n",
    "        \"\"\"\n",
    "\n",
    "        H1 = self.harvey(theta_u['H_power'], theta_u['H1_nu'], theta_u['H1_exp'],)\n",
    "\n",
    "        H2 = self.harvey(theta_u['H_power'], theta_u['H2_nu'], theta_u['H2_exp'],)\n",
    "        \n",
    "        bkg = (H1 + H2)\n",
    "\n",
    "        return bkg\n",
    "    \n",
    "    def make_timeseries(self):\n",
    "        a = np.zeros_like(self.limit).astype(complex)\n",
    "        a.real += self.limit**0.5 * np.random.randn(len(a))\n",
    "        a.imag += self.limit**0.5 * np.random.randn(len(a))\n",
    "        self.timeseries = np.fft.irfft(a)[:len(a)]\n",
    "        self.times = np.fft.rfftfreq(len(a)*2 - 1, d=self.nu[1]/1e6)[:len(a)]\n",
    "        print(self.times[:10])\n",
    "    \n",
    "    def __call__(self, params: dict):\n",
    "        ''' Makes a power spectrum limit model\n",
    "        \n",
    "        params: dict\n",
    "            A dictionary with a specific set of params that are ... \n",
    "        \n",
    "        '''\n",
    "        self.limit = self.model_(params)\n",
    "        self.make_timeseries()\n",
    "        return limit\n",
    "    "
   ]
  },
  {
   "cell_type": "code",
   "execution_count": 213,
   "id": "3a746d9e",
   "metadata": {},
   "outputs": [
    {
     "name": "stdout",
     "output_type": "stream",
     "text": [
      "[ 0.          4.90195588  9.80391176 14.70586765 19.60782353 24.50977941\n",
      " 29.41173529 34.31369118 39.21564706 44.11760294]\n"
     ]
    }
   ],
   "source": [
    "nu = np.linspace(0, 12*8500, 500000)\n",
    "pdict = {n: v for n, v in zip(samples.columns, samples.loc[10])}\n",
    "exp_list=['dnu', 'numax', 'teff', 'd02', 'alpha_p', 'env_height', 'env_width', 'mode_width', \n",
    "          'H1_nu', 'H_power', 'H2_nu', 'd01']\n",
    "for key in exp_list:\n",
    "    pdict[key] = 10**pdict[key]\n",
    "m = model(nu)\n",
    "limit = m(pdict)"
   ]
  },
  {
   "cell_type": "code",
   "execution_count": 214,
   "id": "f2d95f64",
   "metadata": {},
   "outputs": [
    {
     "data": {
      "text/plain": [
       "[<matplotlib.lines.Line2D at 0x7f81eab14ac0>]"
      ]
     },
     "execution_count": 214,
     "metadata": {},
     "output_type": "execute_result"
    },
    {
     "data": {
      "image/png": "[encoded data removed]",
      "text/plain": [
       "<Figure size 432x288 with 1 Axes>"
      ]
     },
     "metadata": {
      "needs_background": "light"
     },
     "output_type": "display_data"
    }
   ],
   "source": [
    "plt.plot(m.nu, np.log10(m.limit))"
   ]
  },
  {
   "cell_type": "code",
   "execution_count": 215,
   "id": "62f935d3",
   "metadata": {},
   "outputs": [
    {
     "data": {
      "text/plain": [
       "(2000.0, 3500.0)"
      ]
     },
     "execution_count": 215,
     "metadata": {},
     "output_type": "execute_result"
    },
    {
     "data": {
      "image/png": "[encoded data removed]",
      "text/plain": [
       "<Figure size 432x288 with 1 Axes>"
      ]
     },
     "metadata": {
      "needs_background": "light"
     },
     "output_type": "display_data"
    }
   ],
   "source": [
    "plt.plot(m.nu, (m.limit))\n",
    "plt.xlim([2000, 3500])"
   ]
  },
  {
   "cell_type": "code",
   "execution_count": 218,
   "id": "1125203c",
   "metadata": {},
   "outputs": [
    {
     "name": "stdout",
     "output_type": "stream",
     "text": [
      "(25000,)\n"
     ]
    },
    {
     "data": {
      "text/plain": [
       "[<matplotlib.lines.Line2D at 0x7f833e0212b0>]"
      ]
     },
     "execution_count": 218,
     "metadata": {},
     "output_type": "execute_result"
    },
    {
     "data": {
      "image/png": "[encoded data removed]",
      "text/plain": [
       "<Figure size 432x288 with 1 Axes>"
      ]
     },
     "metadata": {
      "needs_background": "light"
     },
     "output_type": "display_data"
    }
   ],
   "source": [
    "plt.plot(m.times, m.timeseries)\n",
    "plt.xlim([0, 200000])\n",
    "exposure = 1*20 # in cadences ... needs thought.\n",
    "npts = len(m.timeseries)//exposure\n",
    "integrated = np.mean(np.reshape(m.timeseries[:int(np.floor(npts*exposure))], [exposure, npts]), axis=0)\n",
    "print(integrated.shape)\n",
    "plt.plot(m.times[::exposure][:len(integrated)], integrated)"
   ]
  },
  {
   "cell_type": "code",
   "execution_count": 217,
   "id": "281c8b5c",
   "metadata": {},
   "outputs": [
    {
     "data": {
      "text/plain": [
       "(0.0, 5000.0)"
      ]
     },
     "execution_count": 217,
     "metadata": {},
     "output_type": "execute_result"
    },
    {
     "data": {
      "image/png": "[encoded data removed]",
      "text/plain": [
       "<Figure size 432x288 with 1 Axes>"
      ]
     },
     "metadata": {
      "needs_background": "light"
     },
     "output_type": "display_data"
    }
   ],
   "source": [
    "tmp = np.fft.rfft(m.timeseries)\n",
    "f = np.fft.rfftfreq(len(tmp)*2-1, d=m.times[1])\n",
    "plt.plot(f*1e6, tmp * np.conj(tmp))\n",
    "plt.xlim([0, 5000])"
   ]
  },
  {
   "cell_type": "code",
   "execution_count": null,
   "id": "8d03f668",
   "metadata": {},
   "outputs": [],
   "source": []
  }
 ],
 "metadata": {
  "kernelspec": {
   "display_name": "Python 3 (ipykernel)",
   "language": "python",
   "name": "python3"
  },
  "language_info": {
   "codemirror_mode": {
    "name": "ipython",
    "version": 3
   },
   "file_extension": ".py",
   "mimetype": "text/x-python",
   "name": "python",
   "nbconvert_exporter": "python",
   "pygments_lexer": "ipython3",
   "version": "3.9.7"
  }
 },
 "nbformat": 4,
 "nbformat_minor": 5
}
