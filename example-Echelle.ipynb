{
 "cells": [
  {
   "cell_type": "markdown",
   "id": "dfff15d7",
   "metadata": {},
   "source": [
    "WIP"
   ]
  },
  {
   "cell_type": "code",
   "execution_count": null,
   "id": "a1c7f715",
   "metadata": {},
   "outputs": [],
   "source": [
    "from pbjam.echelle import plot_echelle\n",
    "plot_echelle(f[(1000 < f) & (f < 3000)], s[(1000 < f) & (f < 3000)], 103.2, scale='sqrt', smooth=True, smooth_filter_width=20/103.2)  \n",
    " "
   ]
  }
 ],
 "metadata": {
  "kernelspec": {
   "display_name": "Python 3 (ipykernel)",
   "language": "python",
   "name": "python3"
  },
  "language_info": {
   "codemirror_mode": {
    "name": "ipython",
    "version": 3
   },
   "file_extension": ".py",
   "mimetype": "text/x-python",
   "name": "python",
   "nbconvert_exporter": "python",
   "pygments_lexer": "ipython3",
   "version": "3.10.6"
  }
 },
 "nbformat": 4,
 "nbformat_minor": 5
}
