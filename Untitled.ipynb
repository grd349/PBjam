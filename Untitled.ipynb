{
 "cells": [
  {
   "cell_type": "code",
   "execution_count": 1,
   "metadata": {},
   "outputs": [],
   "source": [
    "import lightkurve as lk\n",
    "from pbjam.jar import session\n",
    "from matplotlib.pyplot import *\n",
    "import numpy as np\n",
    "import pandas as pd"
   ]
  },
  {
   "cell_type": "code",
   "execution_count": 2,
   "metadata": {},
   "outputs": [],
   "source": [
    "# kic = '4448777'\n",
    "# lc = lk.search_lightcurvefile(target=kic, quarter=5, cadence = 'long').download().PDCSAP_FLUX\n",
    "# lc = lc.remove_nans().remove_outliers().flatten().normalize()\n",
    "# np.savetxt('mypsd.asciifile', list(zip(lc.time,lc.flux)))"
   ]
  },
  {
   "cell_type": "code",
   "execution_count": 3,
   "metadata": {},
   "outputs": [],
   "source": [
    "# psd = lc.to_periodogram(normalization = 'psd')"
   ]
  },
  {
   "cell_type": "code",
   "execution_count": 4,
   "metadata": {},
   "outputs": [],
   "source": [
    "# t,d = np.genfromtxt('mypsd.asciifile').T"
   ]
  },
  {
   "cell_type": "code",
   "execution_count": 5,
   "metadata": {},
   "outputs": [],
   "source": [
    "# psd2 = lk.LightCurve(time=t,flux=d).to_periodogram(normalization = 'psd')"
   ]
  },
  {
   "cell_type": "code",
   "execution_count": 6,
   "metadata": {},
   "outputs": [],
   "source": [
    "# figure()\n",
    "# plot(np.array(psd.frequency),np.array(psd.power))\n",
    "# plot(np.array(psd2.frequency),np.array(psd2.power))"
   ]
  },
  {
   "cell_type": "code",
   "execution_count": 7,
   "metadata": {},
   "outputs": [],
   "source": [
    "# def call_lk(**kwargs):\n",
    "#     c = lk.search_lightcurvefile(target=kic, quarter=5, cadence = 'long').download().PDCSAP_FLUX\n",
    "#     lc = lc.remove_nans().remove_outliers().flatten().normalize()"
   ]
  },
  {
   "cell_type": "code",
   "execution_count": 8,
   "metadata": {},
   "outputs": [],
   "source": [
    "# import pandas as pd"
   ]
  },
  {
   "cell_type": "code",
   "execution_count": 9,
   "metadata": {},
   "outputs": [],
   "source": [
    "# a = np.zeros((4,4))\n",
    "# df = pd.DataFrame(a, columns = ['a','b','c','d'])"
   ]
  },
  {
   "cell_type": "code",
   "execution_count": 10,
   "metadata": {},
   "outputs": [],
   "source": [
    "# k = [[df['a'][i],df['b'][i]]for i in range(len(df))]"
   ]
  },
  {
   "cell_type": "code",
   "execution_count": 11,
   "metadata": {},
   "outputs": [],
   "source": [
    "# type(k)"
   ]
  },
  {
   "cell_type": "code",
   "execution_count": 12,
   "metadata": {},
   "outputs": [],
   "source": [
    "# kic = '4448777'\n",
    "# numax = [220.0, 3.0]\n",
    "# dnu = [16.97, 0.01]\n",
    "# teff = [4750, 100]"
   ]
  },
  {
   "cell_type": "code",
   "execution_count": 13,
   "metadata": {},
   "outputs": [],
   "source": [
    "# d = {'ID': [kic,kic], \n",
    "#      'numax': [numax[0],numax[0]], \n",
    "#      'numax_error': [numax[1],numax[1]], \n",
    "#      'teff': [teff[0],teff[0]], \n",
    "#      'teff_error': [teff[1],teff[1]],\n",
    "#      'dnu': [dnu[0],dnu[0]],\n",
    "#      'dnu_error': [dnu[1],dnu[1]],\n",
    "#      'quarter': [5,5]}"
   ]
  },
  {
   "cell_type": "code",
   "execution_count": 14,
   "metadata": {},
   "outputs": [],
   "source": [
    "# df = pd.DataFrame(data=d)"
   ]
  },
  {
   "cell_type": "code",
   "execution_count": 15,
   "metadata": {},
   "outputs": [],
   "source": [
    "# df\n"
   ]
  },
  {
   "cell_type": "code",
   "execution_count": 16,
   "metadata": {},
   "outputs": [],
   "source": [
    "df = pd.read_csv('test.csv')"
   ]
  },
  {
   "cell_type": "code",
   "execution_count": 17,
   "metadata": {},
   "outputs": [
    {
     "data": {
      "text/html": [
       "<div>\n",
       "<style scoped>\n",
       "    .dataframe tbody tr th:only-of-type {\n",
       "        vertical-align: middle;\n",
       "    }\n",
       "\n",
       "    .dataframe tbody tr th {\n",
       "        vertical-align: top;\n",
       "    }\n",
       "\n",
       "    .dataframe thead th {\n",
       "        text-align: right;\n",
       "    }\n",
       "</style>\n",
       "<table border=\"1\" class=\"dataframe\">\n",
       "  <thead>\n",
       "    <tr style=\"text-align: right;\">\n",
       "      <th></th>\n",
       "      <th>ID</th>\n",
       "      <th>numax</th>\n",
       "      <th>numax_error</th>\n",
       "      <th>teff</th>\n",
       "      <th>teff_error</th>\n",
       "      <th>dnu</th>\n",
       "      <th>dnu_error</th>\n",
       "      <th>quarter</th>\n",
       "      <th>timeseries</th>\n",
       "    </tr>\n",
       "  </thead>\n",
       "  <tbody>\n",
       "    <tr>\n",
       "      <th>0</th>\n",
       "      <td>4448777</td>\n",
       "      <td>220</td>\n",
       "      <td>3</td>\n",
       "      <td>4750</td>\n",
       "      <td>100</td>\n",
       "      <td>16.97</td>\n",
       "      <td>0.01</td>\n",
       "      <td>5</td>\n",
       "      <td>/home/nielsemb/work/repos/PBjam/myts.asciifile</td>\n",
       "    </tr>\n",
       "    <tr>\n",
       "      <th>1</th>\n",
       "      <td>4448777</td>\n",
       "      <td>220</td>\n",
       "      <td>3</td>\n",
       "      <td>4750</td>\n",
       "      <td>100</td>\n",
       "      <td>16.97</td>\n",
       "      <td>0.01</td>\n",
       "      <td>5</td>\n",
       "      <td>/home/nielsemb/work/repos/PBjam/myts.asciifile</td>\n",
       "    </tr>\n",
       "  </tbody>\n",
       "</table>\n",
       "</div>"
      ],
      "text/plain": [
       "        ID  numax  numax_error  teff  teff_error    dnu  dnu_error  quarter  \\\n",
       "0  4448777    220            3  4750         100  16.97       0.01        5   \n",
       "1  4448777    220            3  4750         100  16.97       0.01        5   \n",
       "\n",
       "                                       timeseries  \n",
       "0  /home/nielsemb/work/repos/PBjam/myts.asciifile  \n",
       "1  /home/nielsemb/work/repos/PBjam/myts.asciifile  "
      ]
     },
     "execution_count": 17,
     "metadata": {},
     "output_type": "execute_result"
    }
   ],
   "source": [
    "df"
   ]
  },
  {
   "cell_type": "code",
   "execution_count": 18,
   "metadata": {},
   "outputs": [],
   "source": [
    "jam_sess = session(dictlike = df)"
   ]
  },
  {
   "cell_type": "code",
   "execution_count": 19,
   "metadata": {},
   "outputs": [
    {
     "data": {
      "text/plain": [
       "{'ID': 4448777,\n",
       " 'f': array([1.22279850e-01, 2.44559699e-01, 3.66839549e-01, ...,\n",
       "        2.82833292e+02, 2.82955572e+02, 2.83077852e+02]),\n",
       " 's': array([0.70233196, 0.70233196, 0.70233196, ..., 1.41191184, 2.34583688,\n",
       "        0.16957696]),\n",
       " 'numax': [220, 3],\n",
       " 'dnu': [16.97, 0.01],\n",
       " 'teff': [4750, 100],\n",
       " 'epsilon': None,\n",
       " 'mode_ID': {},\n",
       " 'asy_model': None,\n",
       " 'source': '/home/nielsemb/work/repos/PBjam/myts.asciifile'}"
      ]
     },
     "execution_count": 19,
     "metadata": {},
     "output_type": "execute_result"
    }
   ],
   "source": [
    "vars(jam_sess.stars[1])"
   ]
  },
  {
   "cell_type": "code",
   "execution_count": null,
   "metadata": {},
   "outputs": [],
   "source": []
  },
  {
   "cell_type": "code",
   "execution_count": 20,
   "metadata": {},
   "outputs": [],
   "source": [
    "lc = lk.search_lightcurvefile(target='4448777', quarter=5)"
   ]
  },
  {
   "cell_type": "code",
   "execution_count": 21,
   "metadata": {},
   "outputs": [
    {
     "data": {
      "text/plain": [
       "'kplr004448777-2010174085026_llc.fits'"
      ]
     },
     "execution_count": 21,
     "metadata": {},
     "output_type": "execute_result"
    }
   ],
   "source": [
    "lc.table['productFilename'][0]"
   ]
  },
  {
   "cell_type": "code",
   "execution_count": 22,
   "metadata": {},
   "outputs": [
    {
     "data": {
      "text/plain": [
       "lightkurve.search.SearchResult"
      ]
     },
     "execution_count": 22,
     "metadata": {},
     "output_type": "execute_result"
    }
   ],
   "source": [
    "type(lc)"
   ]
  },
  {
   "cell_type": "code",
   "execution_count": null,
   "metadata": {},
   "outputs": [],
   "source": []
  }
 ],
 "metadata": {
  "kernelspec": {
   "display_name": "Python 3",
   "language": "python",
   "name": "python3"
  },
  "language_info": {
   "codemirror_mode": {
    "name": "ipython",
    "version": 3
   },
   "file_extension": ".py",
   "mimetype": "text/x-python",
   "name": "python",
   "nbconvert_exporter": "python",
   "pygments_lexer": "ipython3",
   "version": "3.7.1"
  }
 },
 "nbformat": 4,
 "nbformat_minor": 2
}
