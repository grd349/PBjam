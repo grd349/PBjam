{
 "cells": [
  {
   "cell_type": "markdown",
   "id": "a1a25ba6",
   "metadata": {},
   "source": [
    "# Example of getting nan in the first frequency.\n",
    "\n",
    "This is an error that appears occasionally near the start of the sampling where a particular draw from the prior produces a nan value in the set of mixed mode frequencies. Dynesty can't handle nan so the sampling can't be initialized.\n",
    "\n",
    "From what I can tell this problem occurs when prior draw produces a numax which is dramatically different from the target numax, in combination with when the asymptotic g-mode parameters are supplied manually. The asymptotic g-mode parameters are then vastly different from what shoudl be expected for that particular numax draw.\n",
    "\n",
    "For some reason, when it comes to solving the eigen value problem of L and D to get the mixed mode frequencies, one of the eigenvalues Lambda becomes positive where they should be negative. Since the mode frequencies are given by $\\omega = (-\\Lambda)^2$, this results in that frequency being nan. \n",
    "\n",
    "We should in principle be able to ignore this issue in the future, since the prior will know what DPi0 goes with what numax, but it would be nice to know why we get positive $\\Lambda$ values from the L and D matrices. "
   ]
  },
  {
   "cell_type": "code",
   "execution_count": 13,
   "id": "ce9d0f68",
   "metadata": {},
   "outputs": [
    {
     "name": "stdout",
     "output_type": "stream",
     "text": [
      "The autoreload extension is already loaded. To reload it, use:\n",
      "  %reload_ext autoreload\n"
     ]
    }
   ],
   "source": [
    "%load_ext autoreload\n",
    "%autoreload 2\n",
    "from pbjam.modeID import modeIDsampler\n",
    "from pbjam import IO\n",
    "import corner\n",
    "import jax.numpy as jnp\n",
    "import pbjam.distributions as dist\n",
    "import numpy as np\n",
    "from scipy.linalg import eigh as seigh\n",
    "import matplotlib.pyplot as plt"
   ]
  },
  {
   "cell_type": "markdown",
   "id": "9db8e8b7",
   "metadata": {},
   "source": [
    "## Load in some dummy data so we can initialize the class"
   ]
  },
  {
   "cell_type": "code",
   "execution_count": 2,
   "id": "1ad76671",
   "metadata": {},
   "outputs": [
    {
     "name": "stdout",
     "output_type": "stream",
     "text": [
      "Using cached search result.\n",
      "Loading fits files from cache.\n"
     ]
    }
   ],
   "source": [
    "psd = IO.psd('KIC7976303', lk_kwargs={'exptime': 60, 'mission':'Kepler', 'author':'Kepler'})\n",
    "\n",
    "psd()\n",
    "\n",
    "f = psd.freq[::10]\n",
    "\n",
    "s = psd.powerdensity[::10]"
   ]
  },
  {
   "cell_type": "markdown",
   "id": "526e07e6",
   "metadata": {},
   "source": [
    "## Priors and Observations\n",
    "The addObs dictionary is used to select the relevant target range of the prior.\n",
    "\n",
    "The addPriors dictionary is used to specify independent priors for each of the listed parameters. These are *not* included in the dimensionality reduction."
   ]
  },
  {
   "cell_type": "code",
   "execution_count": 3,
   "id": "535436e7",
   "metadata": {},
   "outputs": [],
   "source": [
    "addObs = {'numax' : (900.17, 80),\n",
    "          'dnu'  : (51.24, 0.21),\n",
    "          'teff': (6053, 10.0),\n",
    "          'bp_rp': (0.719, 0.05), \n",
    "          } \n",
    "\n",
    "addPriors = {'p_L0': dist.beta(a=1.2, b=1.2, loc=0.04, scale=0.06),\n",
    "             'p_D0': dist.beta(a=1.2, b=1.2, loc=-0.04, scale=0.04),\n",
    "             'DPi0': dist.normal(loc=0.000519, scale=0.000519*0.01),\n",
    "             'eps_g': dist.normal(loc=0.81, scale=0.01),\n",
    "             'd01': dist.normal(loc=np.log10(24), scale=0.01),\n",
    "             'alpha_g': dist.normal(loc=np.log10(0.02), scale=0.5),\n",
    "            }"
   ]
  },
  {
   "cell_type": "markdown",
   "id": "064face3",
   "metadata": {},
   "source": [
    "## Initialize the sampling class\n",
    "This is effectively asy_peakbag from the old version of PBjam."
   ]
  },
  {
   "cell_type": "code",
   "execution_count": 4,
   "id": "dac16603",
   "metadata": {},
   "outputs": [],
   "source": [
    "N_p = 15 # p-mode orders\n",
    "\n",
    "N_pca = 200 # Number of samples to used for PCA\n",
    "\n",
    "PCAdims = 8 # Number dimensions for the latent space.\n",
    " \n",
    "M = modeIDsampler(f, s, addObs, addPriors, N_p=N_p, Npca=N_pca, PCAdims=PCAdims, priorpath=IO.get_priorpath(), freq_limits = [100, 2000])"
   ]
  },
  {
   "cell_type": "markdown",
   "id": "a1162725",
   "metadata": {},
   "source": [
    "## Sample that produces nan\n",
    "\n",
    "This is just an example of a sample drawn from the prior above which produces a nan frequency.\n",
    "\n",
    "Note that numax is very small, corresponding to a red giant perhaps. In contrast, the prior we have specified above assumes we're looking at a subgiant star. \n",
    "\n",
    "I think this is where the issue comes from."
   ]
  },
  {
   "cell_type": "code",
   "execution_count": 5,
   "id": "68ff17be",
   "metadata": {},
   "outputs": [
    {
     "name": "stdout",
     "output_type": "stream",
     "text": [
      "{'DPi0': Array(0.00051508, dtype=float64), 'H1_exp': Array(3.37108243, dtype=float64), 'H1_nu': Array(56.55857212, dtype=float64), 'H2_exp': Array(1.27358296, dtype=float64), 'H2_nu': Array(17.1528616, dtype=float64), 'H3_exp': Array(2.05914413, dtype=float64), 'H3_nu': Array(0.52693521, dtype=float64), 'H3_power': Array(171.35727611, dtype=float64), 'H_power': Array(24824.75301112, dtype=float64), 'alpha_g': Array(0.26481905, dtype=float64), 'alpha_p': Array(0.00554461, dtype=float64), 'bp_rp': Array(1.06588965, dtype=float64), 'd01': Array(22.61099375, dtype=float64), 'd02': Array(0.90883407, dtype=float64), 'dnu': Array(5.85279322, dtype=float64), 'env_height': Array(27.91843632, dtype=float64), 'env_width': Array(4.37121207, dtype=float64), 'eps_g': Array(0.81567949, dtype=float64), 'eps_p': Array(1.30814367, dtype=float64), 'inc': Array(0.75368183, dtype=float64), 'mode_width': Array(0.06208078, dtype=float64), 'numax': Array(59.72979185, dtype=float64), 'nurot_c': Array(0.01301811, dtype=float64), 'p_D': Array([-0.01328669], dtype=float64), 'p_D0': Array(-0.01328669, dtype=float64), 'p_L': Array([0.07021363], dtype=float64), 'p_L0': Array(0.07021363, dtype=float64), 'shot': Array(1.11081459, dtype=float64), 'teff': Array(5361.57153506, dtype=float64)}\n"
     ]
    }
   ],
   "source": [
    "v=jnp.array([ 1.26105197e+01, -2.09269972e+00, -1.58912585e+00, -7.15306882e-01,\n",
    "             -1.01949253e+00, -2.16685269e-01,  6.60950953e-01,  1.09379960e+00,\n",
    "              7.02136291e-02, -1.32866941e-02,  5.15077069e-04,  8.15679489e-01,\n",
    "             -5.77050777e-01,  1.35431965e+00, -1.88545218e+00,  7.53681830e-01,\n",
    "              2.23390255e+00, -2.78242778e-01,  2.05914413e+00,  4.56415754e-02])\n",
    "\n",
    "r = M.unpackParams(v)\n",
    "\n",
    "print(r)"
   ]
  },
  {
   "cell_type": "code",
   "execution_count": 9,
   "id": "26541d7b",
   "metadata": {},
   "outputs": [
    {
     "name": "stdout",
     "output_type": "stream",
     "text": [
      "[14.52101847 20.13376169 25.77895637 31.45660249 37.16670005 42.90924907\n",
      " 48.68424954 54.49170145 60.33160481 66.20395961 72.10876587 78.04602357\n",
      " 84.01573272 90.01789332 96.05250536]\n"
     ]
    }
   ],
   "source": [
    "nu0_p, n_p = M.AsyFreqModel.asymptotic_nu_p(r['numax'], r['dnu'], r['eps_p'], r['alpha_p'])\n",
    "nu1_p = nu0_p + r['d01']  \n",
    "\n",
    "print(nu0_p)"
   ]
  },
  {
   "cell_type": "code",
   "execution_count": 10,
   "id": "03cb704f",
   "metadata": {},
   "outputs": [
    {
     "name": "stdout",
     "output_type": "stream",
     "text": [
      "[350.16000089 486.71417182 691.44220488 970.10819746]\n"
     ]
    }
   ],
   "source": [
    "nu_g = M.MixFreqModel.asymptotic_nu_g(M.MixFreqModel.n_g, r['DPi0'], r['eps_g'], r['alpha_g'])\n",
    "\n",
    "print(nu_g)"
   ]
  },
  {
   "cell_type": "code",
   "execution_count": 17,
   "id": "dfa73dcb",
   "metadata": {},
   "outputs": [],
   "source": [
    "L, D = M.MixFreqModel.generate_matrices(n_p, M.MixFreqModel.n_g, nu1_p, nu_g, r['p_L'], r['p_D'])\n",
    "L, D = np.array(L), np.array(D)"
   ]
  },
  {
   "cell_type": "markdown",
   "id": "d8b28379",
   "metadata": {},
   "source": [
    "## Does this look like what we expect?\n",
    "\n",
    "I could have sworn the g-modes should be at the top. Does it ma"
   ]
  },
  {
   "cell_type": "code",
   "execution_count": 27,
   "id": "8b1de0c6",
   "metadata": {},
   "outputs": [
    {
     "data": {
      "text/plain": [
       "Text(0, 2.5, 'D')"
      ]
     },
     "execution_count": 27,
     "metadata": {},
     "output_type": "execute_result"
    },
    {
     "data": {
      "image/png": "[encoded data removed]",
      "text/plain": [
       "<Figure size 1600x900 with 2 Axes>"
      ]
     },
     "metadata": {},
     "output_type": "display_data"
    }
   ],
   "source": [
    "fig, ax = plt.subplots(1,2, figsize=(16,9))\n",
    "\n",
    "for i in range(L.shape[0]):\n",
    "    L[i,i] = 0\n",
    "    D[i,i] = 0\n",
    "\n",
    "ax[0].imshow(L)\n",
    "ax[0].text(0, 2.5, s='L', fontsize=50, color='w')\n",
    "ax[1].imshow(D)\n",
    "ax[1].text(0, 2.5, s='D', fontsize=50, color='k')"
   ]
  },
  {
   "cell_type": "code",
   "execution_count": null,
   "id": "18cfd6e9",
   "metadata": {},
   "outputs": [],
   "source": []
  }
 ],
 "metadata": {
  "kernelspec": {
   "display_name": "Python 3 (ipykernel)",
   "language": "python",
   "name": "python3"
  },
  "language_info": {
   "codemirror_mode": {
    "name": "ipython",
    "version": 3
   },
   "file_extension": ".py",
   "mimetype": "text/x-python",
   "name": "python",
   "nbconvert_exporter": "python",
   "pygments_lexer": "ipython3",
   "version": "3.10.6"
  }
 },
 "nbformat": 4,
 "nbformat_minor": 5
}
