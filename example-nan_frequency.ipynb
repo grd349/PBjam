{
 "cells": [
  {
   "cell_type": "markdown",
   "id": "a1a25ba6",
   "metadata": {},
   "source": [
    "# Example of getting nan in the first frequency.\n",
    "\n",
    "This is an error that appears occasionally near the start of the sampling where a particular draw from the prior produces a nan value in the set of mixed mode frequencies. Dynesty can't handle nan so the sampling can't be initialized.\n",
    "\n",
    "From what I can tell this problem occurs when prior draw produces a numax which is dramatically different from the target numax, in combination with when the asymptotic g-mode parameters are supplied manually. The asymptotic g-mode parameters are then vastly different from what shoudl be expected for that particular numax draw.\n",
    "\n",
    "For some reason, when it comes to solving the eigen value problem of L and D to get the mixed mode frequencies, one of the eigenvalues Lambda becomes positive where they should be negative. Since the mode frequencies are given by $\\omega = (-\\Lambda)^2$, this results in that frequency being nan. \n",
    "\n",
    "We should in principle be able to ignore this issue in the future, since the prior will know what DPi0 goes with what numax, but it would be nice to know why we get positive $\\Lambda$ values from the L and D matrices. "
   ]
  },
  {
   "cell_type": "code",
   "execution_count": 5,
   "id": "ce9d0f68",
   "metadata": {},
   "outputs": [
    {
     "name": "stderr",
     "output_type": "stream",
     "text": [
      "No GPU/TPU found, falling back to CPU. (Set TF_CPP_MIN_LOG_LEVEL=0 and rerun for more info.)\n"
     ]
    }
   ],
   "source": [
    "%load_ext autoreload\n",
    "%autoreload 2\n",
    "from pbjam.modeID import modeIDsampler\n",
    "from pbjam import IO\n",
    "import corner\n",
    "import jax.numpy as jnp\n",
    "import pbjam.distributions as dist\n",
    "import numpy as np\n",
    "from scipy.linalg import eigh as seigh"
   ]
  },
  {
   "cell_type": "code",
   "execution_count": 6,
   "id": "1ad76671",
   "metadata": {},
   "outputs": [
    {
     "name": "stdout",
     "output_type": "stream",
     "text": [
      "Using cached search result.\n",
      "Loading fits files from cache.\n"
     ]
    },
    {
     "ename": "KeyboardInterrupt",
     "evalue": "",
     "output_type": "error",
     "traceback": [
      "\u001b[0;31m---------------------------------------------------------------------------\u001b[0m",
      "\u001b[0;31mKeyboardInterrupt\u001b[0m                         Traceback (most recent call last)",
      "Cell \u001b[0;32mIn [6], line 1\u001b[0m\n\u001b[0;32m----> 1\u001b[0m psd \u001b[38;5;241m=\u001b[39m \u001b[43mIO\u001b[49m\u001b[38;5;241;43m.\u001b[39;49m\u001b[43mpsd\u001b[49m\u001b[43m(\u001b[49m\u001b[38;5;124;43m'\u001b[39;49m\u001b[38;5;124;43mKIC7976303\u001b[39;49m\u001b[38;5;124;43m'\u001b[39;49m\u001b[43m,\u001b[49m\u001b[43m \u001b[49m\u001b[43mlk_kwargs\u001b[49m\u001b[38;5;241;43m=\u001b[39;49m\u001b[43m{\u001b[49m\u001b[38;5;124;43m'\u001b[39;49m\u001b[38;5;124;43mexptime\u001b[39;49m\u001b[38;5;124;43m'\u001b[39;49m\u001b[43m:\u001b[49m\u001b[43m \u001b[49m\u001b[38;5;241;43m60\u001b[39;49m\u001b[43m,\u001b[49m\u001b[43m \u001b[49m\u001b[38;5;124;43m'\u001b[39;49m\u001b[38;5;124;43mmission\u001b[39;49m\u001b[38;5;124;43m'\u001b[39;49m\u001b[43m:\u001b[49m\u001b[38;5;124;43m'\u001b[39;49m\u001b[38;5;124;43mKepler\u001b[39;49m\u001b[38;5;124;43m'\u001b[39;49m\u001b[43m,\u001b[49m\u001b[43m \u001b[49m\u001b[38;5;124;43m'\u001b[39;49m\u001b[38;5;124;43mauthor\u001b[39;49m\u001b[38;5;124;43m'\u001b[39;49m\u001b[43m:\u001b[49m\u001b[38;5;124;43m'\u001b[39;49m\u001b[38;5;124;43mKepler\u001b[39;49m\u001b[38;5;124;43m'\u001b[39;49m\u001b[43m}\u001b[49m\u001b[43m)\u001b[49m\n\u001b[1;32m      3\u001b[0m psd()\n\u001b[1;32m      5\u001b[0m f \u001b[38;5;241m=\u001b[39m psd\u001b[38;5;241m.\u001b[39mfreq[::\u001b[38;5;241m10\u001b[39m]\n",
      "File \u001b[0;32m~/work/repos/PBjam/pbjam/IO.py:99\u001b[0m, in \u001b[0;36mpsd.__init__\u001b[0;34m(self, ID, lk_kwargs, time, flux, flux_err, downloadDir, fit_mean, timeConversion)\u001b[0m\n\u001b[1;32m     95\u001b[0m \u001b[38;5;28mself\u001b[39m\u001b[38;5;241m.\u001b[39mTS \u001b[38;5;241m=\u001b[39m timeSeries(ID, \u001b[38;5;28mself\u001b[39m\u001b[38;5;241m.\u001b[39mdownloadDir, lk_kwargs)\n\u001b[1;32m     97\u001b[0m \u001b[38;5;28;01mif\u001b[39;00m (time \u001b[38;5;129;01mis\u001b[39;00m \u001b[38;5;28;01mNone\u001b[39;00m) \u001b[38;5;129;01mand\u001b[39;00m (flux \u001b[38;5;129;01mis\u001b[39;00m \u001b[38;5;28;01mNone\u001b[39;00m):\n\u001b[0;32m---> 99\u001b[0m     time, flux \u001b[38;5;241m=\u001b[39m \u001b[38;5;28;43mself\u001b[39;49m\u001b[38;5;241;43m.\u001b[39;49m\u001b[43mTS\u001b[49m\u001b[38;5;241;43m.\u001b[39;49m\u001b[43m_getTS\u001b[49m\u001b[43m(\u001b[49m\u001b[43m)\u001b[49m\n\u001b[1;32m    101\u001b[0m     flux \u001b[38;5;241m=\u001b[39m (flux\u001b[38;5;241m/\u001b[39mnp\u001b[38;5;241m.\u001b[39mnanmedian(flux) \u001b[38;5;241m-\u001b[39m \u001b[38;5;241m1\u001b[39m) \u001b[38;5;241m*\u001b[39m \u001b[38;5;241m1e6\u001b[39m\n\u001b[1;32m    103\u001b[0m \u001b[38;5;28mself\u001b[39m\u001b[38;5;241m.\u001b[39m_time \u001b[38;5;241m=\u001b[39m time\n",
      "File \u001b[0;32m~/work/repos/PBjam/pbjam/IO.py:527\u001b[0m, in \u001b[0;36mtimeSeries._getTS\u001b[0;34m(self, use_cached)\u001b[0m\n\u001b[1;32m    524\u001b[0m \u001b[38;5;28;01mexcept\u001b[39;00m:\n\u001b[1;32m    525\u001b[0m     LCcol \u001b[38;5;241m=\u001b[39m \u001b[38;5;28mself\u001b[39m\u001b[38;5;241m.\u001b[39msearch_lightcurve(use_cached\u001b[38;5;241m=\u001b[39muse_cached, cache_expire\u001b[38;5;241m=\u001b[39m\u001b[38;5;241m0\u001b[39m)\n\u001b[0;32m--> 527\u001b[0m lc \u001b[38;5;241m=\u001b[39m \u001b[43mLCcol\u001b[49m\u001b[38;5;241;43m.\u001b[39;49m\u001b[43mstitch\u001b[49m\u001b[43m(\u001b[49m\u001b[43m)\u001b[49m\u001b[38;5;241;43m.\u001b[39;49m\u001b[43mnormalize\u001b[49m\u001b[43m(\u001b[49m\u001b[43m)\u001b[49m\u001b[38;5;241;43m.\u001b[39;49m\u001b[43mremove_nans\u001b[49m\u001b[43m(\u001b[49m\u001b[43m)\u001b[49m\u001b[38;5;241;43m.\u001b[39;49m\u001b[43mremove_outliers\u001b[49m\u001b[43m(\u001b[49m\u001b[43m)\u001b[49m\u001b[38;5;241m.\u001b[39mflatten(window_length\u001b[38;5;241m=\u001b[39mwlen)\n\u001b[1;32m    529\u001b[0m \u001b[38;5;28mself\u001b[39m\u001b[38;5;241m.\u001b[39mtime, \u001b[38;5;28mself\u001b[39m\u001b[38;5;241m.\u001b[39mflux \u001b[38;5;241m=\u001b[39m jnp\u001b[38;5;241m.\u001b[39marray(lc\u001b[38;5;241m.\u001b[39mtime\u001b[38;5;241m.\u001b[39mvalue), jnp\u001b[38;5;241m.\u001b[39marray(lc\u001b[38;5;241m.\u001b[39mflux\u001b[38;5;241m.\u001b[39mvalue)\n\u001b[1;32m    531\u001b[0m \u001b[38;5;28;01mreturn\u001b[39;00m \u001b[38;5;28mself\u001b[39m\u001b[38;5;241m.\u001b[39mtime, \u001b[38;5;28mself\u001b[39m\u001b[38;5;241m.\u001b[39mflux\n",
      "File \u001b[0;32m~/.local/lib/python3.10/site-packages/lightkurve/lightcurve.py:1402\u001b[0m, in \u001b[0;36mLightCurve.remove_outliers\u001b[0;34m(self, sigma, sigma_lower, sigma_upper, return_mask, **kwargs)\u001b[0m\n\u001b[1;32m   1400\u001b[0m \u001b[38;5;28;01mif\u001b[39;00m return_mask:\n\u001b[1;32m   1401\u001b[0m     \u001b[38;5;28;01mreturn\u001b[39;00m \u001b[38;5;28mself\u001b[39m\u001b[38;5;241m.\u001b[39mcopy()[\u001b[38;5;241m~\u001b[39moutlier_mask], outlier_mask\n\u001b[0;32m-> 1402\u001b[0m \u001b[38;5;28;01mreturn\u001b[39;00m \u001b[38;5;28;43mself\u001b[39;49m\u001b[38;5;241;43m.\u001b[39;49m\u001b[43mcopy\u001b[49m\u001b[43m(\u001b[49m\u001b[43m)\u001b[49m\u001b[43m[\u001b[49m\u001b[38;5;241;43m~\u001b[39;49m\u001b[43moutlier_mask\u001b[49m\u001b[43m]\u001b[49m\n",
      "File \u001b[0;32m~/.local/lib/python3.10/site-packages/astropy/timeseries/sampled.py:256\u001b[0m, in \u001b[0;36mTimeSeries.__getitem__\u001b[0;34m(self, item)\u001b[0m\n\u001b[1;32m    253\u001b[0m         out\u001b[38;5;241m.\u001b[39m_groups \u001b[38;5;241m=\u001b[39m groups\u001b[38;5;241m.\u001b[39mTableGroups(out, indices\u001b[38;5;241m=\u001b[39m\u001b[38;5;28mself\u001b[39m\u001b[38;5;241m.\u001b[39mgroups\u001b[38;5;241m.\u001b[39m_indices,\n\u001b[1;32m    254\u001b[0m                                          keys\u001b[38;5;241m=\u001b[39m\u001b[38;5;28mself\u001b[39m\u001b[38;5;241m.\u001b[39mgroups\u001b[38;5;241m.\u001b[39m_keys)\n\u001b[1;32m    255\u001b[0m         \u001b[38;5;28;01mreturn\u001b[39;00m out\n\u001b[0;32m--> 256\u001b[0m \u001b[38;5;28;01mreturn\u001b[39;00m \u001b[38;5;28;43msuper\u001b[39;49m\u001b[43m(\u001b[49m\u001b[43m)\u001b[49m\u001b[38;5;241;43m.\u001b[39;49m\u001b[38;5;21;43m__getitem__\u001b[39;49m\u001b[43m(\u001b[49m\u001b[43mitem\u001b[49m\u001b[43m)\u001b[49m\n",
      "File \u001b[0;32m~/.local/lib/python3.10/site-packages/astropy/table/table.py:1898\u001b[0m, in \u001b[0;36mTable.__getitem__\u001b[0;34m(self, item)\u001b[0m\n\u001b[1;32m   1889\u001b[0m     \u001b[38;5;28;01mreturn\u001b[39;00m \u001b[38;5;28mself\u001b[39m\u001b[38;5;241m.\u001b[39m_new_from_slice([])\n\u001b[1;32m   1890\u001b[0m \u001b[38;5;28;01melif\u001b[39;00m (\u001b[38;5;28misinstance\u001b[39m(item, \u001b[38;5;28mslice\u001b[39m)\n\u001b[1;32m   1891\u001b[0m       \u001b[38;5;129;01mor\u001b[39;00m \u001b[38;5;28misinstance\u001b[39m(item, np\u001b[38;5;241m.\u001b[39mndarray)\n\u001b[1;32m   1892\u001b[0m       \u001b[38;5;129;01mor\u001b[39;00m \u001b[38;5;28misinstance\u001b[39m(item, \u001b[38;5;28mlist\u001b[39m)\n\u001b[0;32m   (...)\u001b[0m\n\u001b[1;32m   1896\u001b[0m     \u001b[38;5;66;03m# is produced by np.where, as in t[np.where(t['a'] > 2)]\u001b[39;00m\n\u001b[1;32m   1897\u001b[0m     \u001b[38;5;66;03m# For all, a new table is constructed with slice of all columns\u001b[39;00m\n\u001b[0;32m-> 1898\u001b[0m     \u001b[38;5;28;01mreturn\u001b[39;00m \u001b[38;5;28;43mself\u001b[39;49m\u001b[38;5;241;43m.\u001b[39;49m\u001b[43m_new_from_slice\u001b[49m\u001b[43m(\u001b[49m\u001b[43mitem\u001b[49m\u001b[43m)\u001b[49m\n\u001b[1;32m   1899\u001b[0m \u001b[38;5;28;01melse\u001b[39;00m:\n\u001b[1;32m   1900\u001b[0m     \u001b[38;5;28;01mraise\u001b[39;00m \u001b[38;5;167;01mValueError\u001b[39;00m(\u001b[38;5;124mf\u001b[39m\u001b[38;5;124m'\u001b[39m\u001b[38;5;124mIllegal type \u001b[39m\u001b[38;5;132;01m{\u001b[39;00m\u001b[38;5;28mtype\u001b[39m(item)\u001b[38;5;132;01m}\u001b[39;00m\u001b[38;5;124m for table item access\u001b[39m\u001b[38;5;124m'\u001b[39m)\n",
      "File \u001b[0;32m~/.local/lib/python3.10/site-packages/astropy/table/table.py:1424\u001b[0m, in \u001b[0;36mTable._new_from_slice\u001b[0;34m(self, slice_)\u001b[0m\n\u001b[1;32m   1419\u001b[0m \u001b[38;5;28;01mif\u001b[39;00m (col \u001b[38;5;28;01mif\u001b[39;00m \u001b[38;5;28misinstance\u001b[39m(col, Column) \u001b[38;5;28;01melse\u001b[39;00m col\u001b[38;5;241m.\u001b[39minfo)\u001b[38;5;241m.\u001b[39mindices:\n\u001b[1;32m   1420\u001b[0m     \u001b[38;5;66;03m# TODO : as far as I can tell the only purpose of setting _copy_indices\u001b[39;00m\n\u001b[1;32m   1421\u001b[0m     \u001b[38;5;66;03m# here is to communicate that to the initial test in `slice_indices`.\u001b[39;00m\n\u001b[1;32m   1422\u001b[0m     \u001b[38;5;66;03m# Why isn't that just sent as an arg to the function?\u001b[39;00m\n\u001b[1;32m   1423\u001b[0m     col\u001b[38;5;241m.\u001b[39minfo\u001b[38;5;241m.\u001b[39m_copy_indices \u001b[38;5;241m=\u001b[39m \u001b[38;5;28mself\u001b[39m\u001b[38;5;241m.\u001b[39m_copy_indices\n\u001b[0;32m-> 1424\u001b[0m     newcol \u001b[38;5;241m=\u001b[39m \u001b[43mcol\u001b[49m\u001b[38;5;241;43m.\u001b[39;49m\u001b[43minfo\u001b[49m\u001b[38;5;241;43m.\u001b[39;49m\u001b[43mslice_indices\u001b[49m\u001b[43m(\u001b[49m\u001b[43mnewcol\u001b[49m\u001b[43m,\u001b[49m\u001b[43m \u001b[49m\u001b[43mslice_\u001b[49m\u001b[43m,\u001b[49m\u001b[43m \u001b[49m\u001b[38;5;28;43mlen\u001b[39;49m\u001b[43m(\u001b[49m\u001b[43mcol\u001b[49m\u001b[43m)\u001b[49m\u001b[43m)\u001b[49m\n\u001b[1;32m   1426\u001b[0m     \u001b[38;5;66;03m# Don't understand why this is forcing a value on the original column.\u001b[39;00m\n\u001b[1;32m   1427\u001b[0m     \u001b[38;5;66;03m# Normally col.info does not even have a _copy_indices attribute.  Tests\u001b[39;00m\n\u001b[1;32m   1428\u001b[0m     \u001b[38;5;66;03m# still pass if this line is deleted.  (Each col.info attribute access\u001b[39;00m\n\u001b[1;32m   1429\u001b[0m     \u001b[38;5;66;03m# is expensive).\u001b[39;00m\n\u001b[1;32m   1430\u001b[0m     col\u001b[38;5;241m.\u001b[39minfo\u001b[38;5;241m.\u001b[39m_copy_indices \u001b[38;5;241m=\u001b[39m \u001b[38;5;28;01mTrue\u001b[39;00m\n",
      "File \u001b[0;32m~/.local/lib/python3.10/site-packages/astropy/utils/data_info.py:671\u001b[0m, in \u001b[0;36mBaseColumnInfo.slice_indices\u001b[0;34m(self, col_slice, item, col_len)\u001b[0m\n\u001b[1;32m    669\u001b[0m         \u001b[38;5;28;01melse\u001b[39;00m:\n\u001b[1;32m    670\u001b[0m             new_index \u001b[38;5;241m=\u001b[39m deepcopy(index)\n\u001b[0;32m--> 671\u001b[0m             \u001b[43mnew_index\u001b[49m\u001b[38;5;241;43m.\u001b[39;49m\u001b[43mreplace_rows\u001b[49m\u001b[43m(\u001b[49m\u001b[43mitem\u001b[49m\u001b[43m)\u001b[49m\n\u001b[1;32m    672\u001b[0m         col_slice\u001b[38;5;241m.\u001b[39minfo\u001b[38;5;241m.\u001b[39mindices\u001b[38;5;241m.\u001b[39mappend(new_index)\n\u001b[1;32m    674\u001b[0m \u001b[38;5;28;01mreturn\u001b[39;00m col_slice\n",
      "File \u001b[0;32m~/.local/lib/python3.10/site-packages/astropy/table/index.py:547\u001b[0m, in \u001b[0;36mSlicedIndex.replace_rows\u001b[0;34m(self, col_slice)\u001b[0m\n\u001b[1;32m    545\u001b[0m \u001b[38;5;28;01mdef\u001b[39;00m \u001b[38;5;21mreplace_rows\u001b[39m(\u001b[38;5;28mself\u001b[39m, col_slice):\n\u001b[1;32m    546\u001b[0m     \u001b[38;5;28;01mif\u001b[39;00m \u001b[38;5;129;01mnot\u001b[39;00m \u001b[38;5;28mself\u001b[39m\u001b[38;5;241m.\u001b[39m_frozen:\n\u001b[0;32m--> 547\u001b[0m         \u001b[38;5;28;43mself\u001b[39;49m\u001b[38;5;241;43m.\u001b[39;49m\u001b[43mindex\u001b[49m\u001b[38;5;241;43m.\u001b[39;49m\u001b[43mreplace_rows\u001b[49m\u001b[43m(\u001b[49m\u001b[43m[\u001b[49m\u001b[38;5;28;43mself\u001b[39;49m\u001b[38;5;241;43m.\u001b[39;49m\u001b[43morig_coords\u001b[49m\u001b[43m(\u001b[49m\u001b[43mx\u001b[49m\u001b[43m)\u001b[49m\u001b[43m \u001b[49m\u001b[38;5;28;43;01mfor\u001b[39;49;00m\u001b[43m \u001b[49m\u001b[43mx\u001b[49m\u001b[43m \u001b[49m\u001b[38;5;129;43;01min\u001b[39;49;00m\u001b[43m \u001b[49m\u001b[43mcol_slice\u001b[49m\u001b[43m]\u001b[49m\u001b[43m)\u001b[49m\n",
      "File \u001b[0;32m~/.local/lib/python3.10/site-packages/astropy/table/index.py:341\u001b[0m, in \u001b[0;36mIndex.replace_rows\u001b[0;34m(self, col_slice)\u001b[0m\n\u001b[1;32m    328\u001b[0m \u001b[38;5;124;03m'''\u001b[39;00m\n\u001b[1;32m    329\u001b[0m \u001b[38;5;124;03mModify rows in this index to agree with the specified\u001b[39;00m\n\u001b[1;32m    330\u001b[0m \u001b[38;5;124;03mslice. For example, given an index\u001b[39;00m\n\u001b[0;32m   (...)\u001b[0m\n\u001b[1;32m    338\u001b[0m \u001b[38;5;124;03m    Indices to slice\u001b[39;00m\n\u001b[1;32m    339\u001b[0m \u001b[38;5;124;03m'''\u001b[39;00m\n\u001b[1;32m    340\u001b[0m row_map \u001b[38;5;241m=\u001b[39m \u001b[38;5;28mdict\u001b[39m((row, i) \u001b[38;5;28;01mfor\u001b[39;00m i, row \u001b[38;5;129;01min\u001b[39;00m \u001b[38;5;28menumerate\u001b[39m(col_slice))\n\u001b[0;32m--> 341\u001b[0m \u001b[38;5;28;43mself\u001b[39;49m\u001b[38;5;241;43m.\u001b[39;49m\u001b[43mdata\u001b[49m\u001b[38;5;241;43m.\u001b[39;49m\u001b[43mreplace_rows\u001b[49m\u001b[43m(\u001b[49m\u001b[43mrow_map\u001b[49m\u001b[43m)\u001b[49m\n",
      "File \u001b[0;32m~/.local/lib/python3.10/site-packages/astropy/table/sorted_array.py:266\u001b[0m, in \u001b[0;36mSortedArray.replace_rows\u001b[0;34m(self, row_map)\u001b[0m\n\u001b[1;32m    263\u001b[0m             \u001b[38;5;28;01mbreak\u001b[39;00m\n\u001b[1;32m    265\u001b[0m \u001b[38;5;28mself\u001b[39m\u001b[38;5;241m.\u001b[39mdata \u001b[38;5;241m=\u001b[39m \u001b[38;5;28mself\u001b[39m\u001b[38;5;241m.\u001b[39mdata[keep_rows]\n\u001b[0;32m--> 266\u001b[0m \u001b[38;5;28mself\u001b[39m\u001b[38;5;241m.\u001b[39mrow_index \u001b[38;5;241m=\u001b[39m \u001b[43mnp\u001b[49m\u001b[38;5;241;43m.\u001b[39;49m\u001b[43marray\u001b[49m\u001b[43m(\u001b[49m\n\u001b[1;32m    267\u001b[0m \u001b[43m    \u001b[49m\u001b[43m[\u001b[49m\u001b[43mrow_map\u001b[49m\u001b[43m[\u001b[49m\u001b[43mx\u001b[49m\u001b[43m]\u001b[49m\u001b[43m \u001b[49m\u001b[38;5;28;43;01mfor\u001b[39;49;00m\u001b[43m \u001b[49m\u001b[43mx\u001b[49m\u001b[43m \u001b[49m\u001b[38;5;129;43;01min\u001b[39;49;00m\u001b[43m \u001b[49m\u001b[38;5;28;43mself\u001b[39;49m\u001b[38;5;241;43m.\u001b[39;49m\u001b[43mrow_index\u001b[49m\u001b[43m[\u001b[49m\u001b[43mkeep_rows\u001b[49m\u001b[43m]\u001b[49m\u001b[43m]\u001b[49m\u001b[43m)\u001b[49m\n",
      "\u001b[0;31mKeyboardInterrupt\u001b[0m: "
     ]
    }
   ],
   "source": [
    "psd = IO.psd('KIC7976303', lk_kwargs={'exptime': 60, 'mission':'Kepler', 'author':'Kepler'})\n",
    "\n",
    "psd()\n",
    "\n",
    "f = psd.freq[::10]\n",
    "\n",
    "s = psd.powerdensity[::10]"
   ]
  },
  {
   "cell_type": "markdown",
   "id": "526e07e6",
   "metadata": {},
   "source": [
    "## Priors and Observations"
   ]
  },
  {
   "cell_type": "code",
   "execution_count": null,
   "id": "535436e7",
   "metadata": {},
   "outputs": [],
   "source": [
    "\n",
    "addObs = {'numax' : (900.17, 80),\n",
    "          'dnu'  : (51.24, 0.21),\n",
    "          'teff': (6053, 10.0),\n",
    "          'bp_rp': (0.719, 0.05), \n",
    "          } \n",
    "\n",
    "addPriors = {'p_L0': dist.beta(a=1.2, b=1.2, loc=0.04, scale=0.06),\n",
    "             'p_D0': dist.beta(a=1.2, b=1.2, loc=-0.04, scale=0.04),\n",
    "             'DPi0': dist.normal(loc=0.000519, scale=0.000519*0.01),\n",
    "             'eps_g': dist.normal(loc=0.81, scale=0.01),\n",
    "             'd01': dist.normal(loc=np.log10(24), scale=0.01),\n",
    "             'alpha_g': dist.normal(loc=np.log10(0.02), scale=0.5),\n",
    "            }"
   ]
  },
  {
   "cell_type": "code",
   "execution_count": null,
   "id": "dac16603",
   "metadata": {},
   "outputs": [],
   "source": [
    "N_p = 15\n",
    "\n",
    "N_pca = 20\n",
    "\n",
    "PCAdims = 8\n",
    " \n",
    "M = modeIDsampler(f, s, addObs, addPriors, N_p=N_p, Npca=N_pca, PCAdims=PCAdims, priorpath=IO.get_priorpath(), freq_limits = [100, 2000])"
   ]
  },
  {
   "cell_type": "code",
   "execution_count": null,
   "id": "68ff17be",
   "metadata": {},
   "outputs": [],
   "source": [
    "v=jnp.array([ 1.26105197e+01, -2.09269972e+00, -1.58912585e+00, -7.15306882e-01,\n",
    "             -1.01949253e+00, -2.16685269e-01,  6.60950953e-01,  1.09379960e+00,\n",
    "              7.02136291e-02, -1.32866941e-02,  5.15077069e-04,  8.15679489e-01,\n",
    "             -5.77050777e-01,  1.35431965e+00, -1.88545218e+00,  7.53681830e-01,\n",
    "              2.23390255e+00, -2.78242778e-01,  2.05914413e+00,  4.56415754e-02])\n",
    "\n",
    "r = M.unpackParams(v)\n",
    "\n",
    "print(r)"
   ]
  },
  {
   "cell_type": "code",
   "execution_count": 58,
   "id": "b10d1234",
   "metadata": {},
   "outputs": [
    {
     "name": "stderr",
     "output_type": "stream",
     "text": [
      "24680it [10:11, 40.37it/s, +500 | bound: 311 | nc: 1 | ncall: 935790 | eff(%):  2.692 | loglstar:   -inf < -33125.476 <    inf | logz: -33174.274 +/-  0.309 | dlogz:  0.001 >  0.509]\n"
     ]
    }
   ],
   "source": [
    "sampler, samples = M(dynesty_kwargs = {'nlive':500})"
   ]
  },
  {
   "cell_type": "code",
   "execution_count": 75,
   "id": "46beb97e",
   "metadata": {},
   "outputs": [],
   "source": []
  },
  {
   "cell_type": "code",
   "execution_count": 66,
   "id": "26541d7b",
   "metadata": {},
   "outputs": [],
   "source": [
    "nu1_p = nu0_p + d01  \n",
    "    \n",
    "nu_g = M.MixFreqModel.asymptotic_nu_g(M.MixFreqModel.n_g, DPi0, eps_g, alpha_g)\n",
    "\n",
    "L, D = M.MixFreqModel.generate_matrices(n_p, M.MixFreqModel.n_g, nu1_p, nu_g, p_L, p_D)"
   ]
  },
  {
   "cell_type": "code",
   "execution_count": 70,
   "id": "2e3f4d9f",
   "metadata": {},
   "outputs": [
    {
     "data": {
      "text/plain": [
       "<matplotlib.image.AxesImage at 0x7f476eb24df0>"
      ]
     },
     "execution_count": 70,
     "metadata": {},
     "output_type": "execute_result"
    },
    {
     "data": {
      "image/png": "[encoded data removed]",
      "text/plain": [
       "<Figure size 640x480 with 1 Axes>"
      ]
     },
     "metadata": {},
     "output_type": "display_data"
    }
   ],
   "source": [
    "plt.imshow(D)"
   ]
  },
  {
   "cell_type": "code",
   "execution_count": 71,
   "id": "def619bc",
   "metadata": {},
   "outputs": [
    {
     "data": {
      "text/plain": [
       "Array([[ 1.        ,  0.        ,  0.        ,  0.        ,  0.        ,\n",
       "         0.        ,  0.        ,  0.        ,  0.        ,  0.        ,\n",
       "         0.        ,  0.        ,  0.        ,  0.        ,  0.        ,\n",
       "        -0.01597929, -0.01946752, -0.02472401, -0.03353713],\n",
       "       [ 0.        ,  1.        ,  0.        ,  0.        ,  0.        ,\n",
       "         0.        ,  0.        ,  0.        ,  0.        ,  0.        ,\n",
       "         0.        ,  0.        ,  0.        ,  0.        ,  0.        ,\n",
       "        -0.01465422, -0.01785319, -0.02267379, -0.03075608],\n",
       "       [ 0.        ,  0.        ,  1.        ,  0.        ,  0.        ,\n",
       "         0.        ,  0.        ,  0.        ,  0.        ,  0.        ,\n",
       "         0.        ,  0.        ,  0.        ,  0.        ,  0.        ,\n",
       "        -0.01352855, -0.01648179, -0.0209321 , -0.02839355],\n",
       "       [ 0.        ,  0.        ,  0.        ,  1.        ,  0.        ,\n",
       "         0.        ,  0.        ,  0.        ,  0.        ,  0.        ,\n",
       "         0.        ,  0.        ,  0.        ,  0.        ,  0.        ,\n",
       "        -0.01256045, -0.01530236, -0.0194342 , -0.02636171],\n",
       "       [ 0.        ,  0.        ,  0.        ,  0.        ,  1.        ,\n",
       "         0.        ,  0.        ,  0.        ,  0.        ,  0.        ,\n",
       "         0.        ,  0.        ,  0.        ,  0.        ,  0.        ,\n",
       "        -0.01171901, -0.01427723, -0.01813227, -0.0245957 ],\n",
       "       [ 0.        ,  0.        ,  0.        ,  0.        ,  0.        ,\n",
       "         1.        ,  0.        ,  0.        ,  0.        ,  0.        ,\n",
       "         0.        ,  0.        ,  0.        ,  0.        ,  0.        ,\n",
       "        -0.0109809 , -0.013378  , -0.01699024, -0.02304658],\n",
       "       [ 0.        ,  0.        ,  0.        ,  0.        ,  0.        ,\n",
       "         0.        ,  1.        ,  0.        ,  0.        ,  0.        ,\n",
       "         0.        ,  0.        ,  0.        ,  0.        ,  0.        ,\n",
       "        -0.01032821, -0.01258283, -0.01598036, -0.02167672],\n",
       "       [ 0.        ,  0.        ,  0.        ,  0.        ,  0.        ,\n",
       "         0.        ,  0.        ,  1.        ,  0.        ,  0.        ,\n",
       "         0.        ,  0.        ,  0.        ,  0.        ,  0.        ,\n",
       "        -0.00974693, -0.01187466, -0.01508097, -0.02045674],\n",
       "       [ 0.        ,  0.        ,  0.        ,  0.        ,  0.        ,\n",
       "         0.        ,  0.        ,  0.        ,  1.        ,  0.        ,\n",
       "         0.        ,  0.        ,  0.        ,  0.        ,  0.        ,\n",
       "        -0.00922596, -0.01123995, -0.01427489, -0.01936332],\n",
       "       [ 0.        ,  0.        ,  0.        ,  0.        ,  0.        ,\n",
       "         0.        ,  0.        ,  0.        ,  0.        ,  1.        ,\n",
       "         0.        ,  0.        ,  0.        ,  0.        ,  0.        ,\n",
       "        -0.00875637, -0.01066786, -0.01354832, -0.01837776],\n",
       "       [ 0.        ,  0.        ,  0.        ,  0.        ,  0.        ,\n",
       "         0.        ,  0.        ,  0.        ,  0.        ,  0.        ,\n",
       "         1.        ,  0.        ,  0.        ,  0.        ,  0.        ,\n",
       "        -0.00833094, -0.01014955, -0.01289007, -0.01748486],\n",
       "       [ 0.        ,  0.        ,  0.        ,  0.        ,  0.        ,\n",
       "         0.        ,  0.        ,  0.        ,  0.        ,  0.        ,\n",
       "         0.        ,  1.        ,  0.        ,  0.        ,  0.        ,\n",
       "        -0.00794371, -0.0096778 , -0.01229093, -0.01667216],\n",
       "       [ 0.        ,  0.        ,  0.        ,  0.        ,  0.        ,\n",
       "         0.        ,  0.        ,  0.        ,  0.        ,  0.        ,\n",
       "         0.        ,  0.        ,  1.        ,  0.        ,  0.        ,\n",
       "        -0.00758978, -0.0092466 , -0.01174331, -0.01592932],\n",
       "       [ 0.        ,  0.        ,  0.        ,  0.        ,  0.        ,\n",
       "         0.        ,  0.        ,  0.        ,  0.        ,  0.        ,\n",
       "         0.        ,  0.        ,  0.        ,  1.        ,  0.        ,\n",
       "        -0.00726502, -0.00885095, -0.01124083, -0.01524773],\n",
       "       [ 0.        ,  0.        ,  0.        ,  0.        ,  0.        ,\n",
       "         0.        ,  0.        ,  0.        ,  0.        ,  0.        ,\n",
       "         0.        ,  0.        ,  0.        ,  0.        ,  1.        ,\n",
       "        -0.00696598, -0.00848663, -0.01077814, -0.01462011],\n",
       "       [-0.01597929, -0.01465422, -0.01352855, -0.01256045, -0.01171901,\n",
       "        -0.0109809 , -0.01032821, -0.00974693, -0.00922596, -0.00875637,\n",
       "        -0.00833094, -0.00794371, -0.00758978, -0.00726502, -0.00696598,\n",
       "         1.        ,  0.        ,  0.        ,  0.        ],\n",
       "       [-0.01946752, -0.01785319, -0.01648179, -0.01530236, -0.01427723,\n",
       "        -0.013378  , -0.01258283, -0.01187466, -0.01123995, -0.01066786,\n",
       "        -0.01014955, -0.0096778 , -0.0092466 , -0.00885095, -0.00848663,\n",
       "         0.        ,  1.        ,  0.        ,  0.        ],\n",
       "       [-0.02472401, -0.02267379, -0.0209321 , -0.0194342 , -0.01813227,\n",
       "        -0.01699024, -0.01598036, -0.01508097, -0.01427489, -0.01354832,\n",
       "        -0.01289007, -0.01229093, -0.01174331, -0.01124083, -0.01077814,\n",
       "         0.        ,  0.        ,  1.        ,  0.        ],\n",
       "       [-0.03353713, -0.03075608, -0.02839355, -0.02636171, -0.0245957 ,\n",
       "        -0.02304658, -0.02167672, -0.02045674, -0.01936332, -0.01837776,\n",
       "        -0.01748486, -0.01667216, -0.01592932, -0.01524773, -0.01462011,\n",
       "         0.        ,  0.        ,  0.        ,  1.        ]],      dtype=float64)"
      ]
     },
     "execution_count": 71,
     "metadata": {},
     "output_type": "execute_result"
    }
   ],
   "source": [
    "D"
   ]
  },
  {
   "cell_type": "code",
   "execution_count": 72,
   "id": "1eca145c",
   "metadata": {},
   "outputs": [],
   "source": [
    "Lambda, U = M.MixFreqModel.eigh(L, D)"
   ]
  },
  {
   "cell_type": "code",
   "execution_count": 78,
   "id": "ba12127b",
   "metadata": {},
   "outputs": [
    {
     "data": {
      "text/plain": [
       "(Array([-6.35508027e-05, -5.84409597e-05, -5.35687277e-05, -4.89393112e-05,\n",
       "        -4.45746218e-05, -4.06068787e-05, -3.79842937e-05, -3.56845652e-05,\n",
       "        -3.22346564e-05, -2.87784773e-05, -2.55103466e-05, -2.25197279e-05,\n",
       "        -2.05857233e-05, -1.91620931e-05, -1.66745411e-05, -1.42935338e-05,\n",
       "        -1.27259534e-05, -1.16925582e-05, -8.49284194e-06], dtype=float64),\n",
       " Array([[ 3.08550834e-04,  2.55063069e-04,  1.04599703e-04,\n",
       "          2.77652806e-04,  1.33690762e-03,  5.31208799e-03,\n",
       "          1.55466538e-02,  1.10466950e-02,  6.80397494e-03,\n",
       "          5.43565959e-03,  3.78620921e-03,  4.15649980e-03,\n",
       "          4.55097210e-02,  4.00336553e-02,  3.28553044e-02,\n",
       "          2.60266793e-02,  4.81597753e-01,  8.69033086e-01,\n",
       "          9.65497885e-02],\n",
       "        [ 1.78371517e-04,  7.57517952e-05, -1.57237705e-04,\n",
       "          6.95974521e-04,  2.11965441e-03,  7.33046282e-03,\n",
       "          2.04229820e-02,  1.41044877e-02,  8.46698479e-03,\n",
       "          6.68201647e-03,  4.55363974e-03,  6.45041255e-03,\n",
       "          6.77047943e-02,  6.28662711e-02,  6.76953748e-02,\n",
       "         -9.62282975e-01, -2.04655929e-01,  1.28231957e-01,\n",
       "          6.11364431e-02],\n",
       "        [ 5.85892018e-05, -9.30388626e-05, -4.10909466e-04,\n",
       "          1.11606290e-03,  2.94096152e-03,  9.55869689e-03,\n",
       "          2.60307431e-02,  1.77709233e-02,  1.06197015e-02,\n",
       "          8.47143218e-03,  5.85288158e-03,  1.06599329e-02,\n",
       "          1.20507931e-01,  1.36997752e-01, -9.76091368e-01,\n",
       "         -2.21491594e-02, -8.45488407e-02,  6.82661924e-02,\n",
       "          4.42164356e-02],\n",
       "        [-5.58192904e-05, -2.58877041e-04, -6.69024352e-04,\n",
       "          1.56216897e-03,  3.85890954e-03,  1.21989456e-02,\n",
       "          3.29939726e-02,  2.25487866e-02,  1.36922820e-02,\n",
       "          1.13836559e-02,  8.48511468e-03,  2.25601765e-02,\n",
       "          4.54269262e-01, -8.84803880e-01, -5.81804419e-02,\n",
       "         -1.06528636e-02, -5.29675078e-02,  4.59336410e-02,\n",
       "          3.42674749e-02],\n",
       "        [-1.69576066e-04, -4.29499311e-04, -9.45849673e-04,\n",
       "          2.06508347e-03,  4.95688207e-03,  1.55796378e-02,\n",
       "          4.24230157e-02,  2.94171578e-02,  1.86780578e-02,\n",
       "          1.71646760e-02,  1.65088962e-02,  9.54023681e-01,\n",
       "         -2.68354136e-01, -1.04615428e-01, -2.95200406e-02,\n",
       "         -6.79386605e-03, -3.82752713e-02,  3.42330008e-02,\n",
       "          2.77100542e-02],\n",
       "        [-2.87727988e-04, -6.14026957e-04, -1.26013526e-03,\n",
       "          2.67020234e-03,  6.37358948e-03,  2.03220324e-02,\n",
       "          5.66490251e-02,  4.06817235e-02,  2.85931781e-02,\n",
       "          3.47698522e-02, -9.88278960e-01, -2.57487076e-02,\n",
       "         -1.04029807e-01, -5.52424132e-02, -1.95324333e-02,\n",
       "         -4.87555409e-03, -2.97394805e-02,  2.70230498e-02,\n",
       "          2.30642763e-02],\n",
       "        [-4.16431238e-04, -8.24781630e-04, -1.64008862e-03,\n",
       "          3.45412966e-03,  8.37556436e-03,  2.78234297e-02,\n",
       "          8.17413249e-02,  6.35525152e-02,  5.92178552e-02,\n",
       "         -9.89099825e-01, -1.49402729e-02, -1.30014410e-02,\n",
       "         -6.43460622e-02, -3.72591383e-02, -1.44439129e-02,\n",
       "         -3.73668373e-03, -2.41452428e-02,  2.21349804e-02,\n",
       "          1.96049511e-02],\n",
       "        [-5.64189008e-04, -1.08059603e-03, -2.13381146e-03,\n",
       "          4.56520806e-03,  1.15710743e-02,  4.21162104e-02,\n",
       "          1.40415048e-01,  1.38562222e-01, -9.77133021e-01,\n",
       "         -3.19361484e-02, -7.28737046e-03, -8.76050360e-03,\n",
       "         -4.63630021e-02, -2.79123328e-02, -1.13577464e-02,\n",
       "         -2.98738689e-03, -2.01905413e-02,  1.86057259e-02,\n",
       "          1.69337924e-02],\n",
       "        [-7.44163104e-04, -1.41384757e-03, -2.83494780e-03,\n",
       "          6.34383318e-03,  1.77520939e-02,  8.18676171e-02,\n",
       "          4.56423365e-01, -8.82980853e-01, -5.27191777e-02,\n",
       "         -1.60428101e-02, -4.71879893e-03, -6.61544840e-03,\n",
       "         -3.60521621e-02, -2.21699422e-02, -9.28663019e-03,\n",
       "         -2.46005761e-03, -1.72460608e-02,  1.59413964e-02,\n",
       "          1.48133309e-02],\n",
       "        [-9.79128455e-04, -1.88782089e-03, -3.95906438e-03,\n",
       "          9.79929060e-03,  3.56002361e-02,  9.17769997e-01,\n",
       "         -3.78222199e-01, -1.06107387e-01, -2.69535019e-02,\n",
       "         -1.06138002e-02, -3.43579681e-03, -5.30859799e-03,\n",
       "         -2.93450046e-02, -1.82781894e-02, -7.80152627e-03,\n",
       "         -2.07081642e-03, -1.49695685e-02,  1.38621327e-02,\n",
       "          1.30929213e-02],\n",
       "        [-1.31374096e-03, -2.64851639e-03, -6.14734290e-03,\n",
       "          1.98883279e-02,  9.83277944e-01, -1.01900474e-01,\n",
       "         -1.34354183e-01, -5.63744597e-02, -1.80068035e-02,\n",
       "         -7.86932717e-03, -2.66904440e-03, -4.42316364e-03,\n",
       "         -2.46236412e-02, -1.54647259e-02, -6.68571346e-03,\n",
       "         -1.77308932e-03, -1.31585078e-02,  1.21972641e-02,\n",
       "          1.16722497e-02],\n",
       "        [-1.85119274e-03, -4.13102128e-03, -1.25684700e-02,\n",
       "          9.93539054e-01, -3.94411289e-02, -4.84880325e-02,\n",
       "         -8.16331338e-02, -3.82642522e-02, -1.34487738e-02,\n",
       "         -6.21123192e-03, -2.16078672e-03, -3.78065331e-03,\n",
       "         -2.11158363e-02, -1.33357853e-02, -5.81778686e-03,\n",
       "         -1.53897813e-03, -1.16850850e-02,  1.08366668e-02,\n",
       "          1.04818677e-02],\n",
       "        [-2.89939086e-03, -8.49304833e-03, -9.96698969e-01,\n",
       "         -2.14207566e-02, -1.94716465e-02, -3.18110799e-02,\n",
       "         -5.84886059e-02, -2.88550302e-02, -1.06798914e-02,\n",
       "         -5.10051156e-03, -1.80025257e-03, -3.29161082e-03,\n",
       "         -1.84056109e-02, -1.16692197e-02, -5.12437979e-03,\n",
       "         -1.35077448e-03, -1.04645479e-02,  9.70603634e-03,\n",
       "          9.47213706e-03],\n",
       "        [-5.98865367e-03, -9.98050755e-01,  1.34123709e-02,\n",
       "         -1.07025255e-02, -1.29476197e-02, -2.36291341e-02,\n",
       "         -4.54333001e-02, -2.30736828e-02, -8.81662937e-03,\n",
       "         -4.30447090e-03, -1.53196825e-03, -2.90611001e-03,\n",
       "         -1.62486249e-02, -1.03300028e-02, -4.55850496e-03,\n",
       "         -1.19671148e-03, -9.43839246e-03,  8.75338554e-03,\n",
       "          8.60662330e-03],\n",
       "        [-9.98752581e-01,  9.04127348e-03,  6.74684545e-03,\n",
       "         -7.15702265e-03, -9.69271493e-03, -1.87498605e-02,\n",
       "         -3.70256050e-02, -1.91526284e-02, -7.47579983e-03,\n",
       "         -3.70612645e-03, -1.32508831e-03, -2.59400602e-03,\n",
       "         -1.44916807e-02, -9.23122597e-03, -4.08865525e-03,\n",
       "         -1.06867468e-03, -8.56488535e-03,  7.94123366e-03,\n",
       "          7.85797449e-03],\n",
       "        [-6.21545807e-04, -3.31023653e-04,  1.07629209e-05,\n",
       "         -4.03724694e-04, -8.03200199e-04, -8.15993159e-04,\n",
       "          1.63313427e-03,  3.58288508e-03,  4.51829578e-03,\n",
       "          5.93023330e-03,  7.79879671e-03, -9.28970967e-03,\n",
       "          2.48087384e-03,  1.76819297e-02,  2.53462172e-02,\n",
       "          3.57869237e-02,  8.81412490e-03, -9.98042795e-02,\n",
       "          9.94610979e-01],\n",
       "        [ 1.35591092e-03,  1.97172442e-03,  2.71073242e-03,\n",
       "         -3.58271383e-03, -4.52307120e-03, -4.72804577e-03,\n",
       "          1.72448724e-03,  9.04849978e-03,  1.21151250e-02,\n",
       "          1.58612155e-02,  2.10849019e-02, -2.64825902e-02,\n",
       "          4.01562221e-03,  5.22188559e-02,  9.34814298e-02,\n",
       "          2.36433822e-01, -8.42359001e-01,  4.71141788e-01,\n",
       "          4.44543869e-02],\n",
       "        [ 6.95967290e-03,  8.59540675e-03,  1.06492200e-02,\n",
       "         -1.32231759e-02, -1.63008698e-02, -1.79107467e-02,\n",
       "          1.52730028e-03,  2.87845255e-02,  4.31759242e-02,\n",
       "          6.48396264e-02,  1.11912231e-01, -2.73887347e-01,\n",
       "         -8.20604109e-01, -4.28011429e-01, -1.72486909e-01,\n",
       "         -1.04435086e-01, -9.66835217e-03,  1.03445381e-01,\n",
       "          2.68493820e-02],\n",
       "        [ 3.45993135e-02,  4.48983945e-02,  6.10971197e-02,\n",
       "         -8.96289898e-02, -1.51196372e-01, -3.45567641e-01,\n",
       "         -7.57965921e-01, -4.31469062e-01, -1.99560102e-01,\n",
       "         -1.29514537e-01, -9.73812229e-02,  7.40125136e-02,\n",
       "         -1.16227043e-03, -6.96524473e-02, -6.68835286e-02,\n",
       "         -5.79385392e-02, -5.20574115e-03,  7.10839069e-02,\n",
       "          2.14320640e-02]], dtype=float64))"
      ]
     },
     "execution_count": 78,
     "metadata": {},
     "output_type": "execute_result"
    }
   ],
   "source": [
    "Lambda, U"
   ]
  },
  {
   "cell_type": "code",
   "execution_count": 76,
   "id": "d888f145",
   "metadata": {},
   "outputs": [],
   "source": [
    "sLambda, sU = seigh(L, D)"
   ]
  },
  {
   "cell_type": "code",
   "execution_count": 79,
   "id": "7c214384",
   "metadata": {},
   "outputs": [
    {
     "data": {
      "text/plain": [
       "(array([-6.35508027e-05, -5.84409597e-05, -5.35687277e-05, -4.89393112e-05,\n",
       "        -4.45746218e-05, -4.06068787e-05, -3.79842937e-05, -3.56845652e-05,\n",
       "        -3.22346564e-05, -2.87784773e-05, -2.55103466e-05, -2.25197279e-05,\n",
       "        -2.05857233e-05, -1.91620931e-05, -1.66745411e-05, -1.42935338e-05,\n",
       "        -1.27259534e-05, -1.16925582e-05, -8.49284194e-06]),\n",
       " array([[ 3.08550834e-04,  2.55063069e-04,  1.04599703e-04,\n",
       "          2.77652806e-04, -1.33690762e-03, -5.31208799e-03,\n",
       "         -1.55466538e-02,  1.10466950e-02, -6.80397494e-03,\n",
       "         -5.43565959e-03,  3.78620921e-03, -4.15649980e-03,\n",
       "         -4.55097210e-02,  4.00336553e-02, -3.28553044e-02,\n",
       "         -2.60266793e-02,  4.81597753e-01,  8.69033086e-01,\n",
       "         -9.65497885e-02],\n",
       "        [ 1.78371517e-04,  7.57517952e-05, -1.57237705e-04,\n",
       "          6.95974521e-04, -2.11965441e-03, -7.33046282e-03,\n",
       "         -2.04229820e-02,  1.41044877e-02, -8.46698479e-03,\n",
       "         -6.68201647e-03,  4.55363974e-03, -6.45041255e-03,\n",
       "         -6.77047943e-02,  6.28662711e-02, -6.76953748e-02,\n",
       "          9.62282975e-01, -2.04655929e-01,  1.28231957e-01,\n",
       "         -6.11364431e-02],\n",
       "        [ 5.85892018e-05, -9.30388626e-05, -4.10909466e-04,\n",
       "          1.11606290e-03, -2.94096152e-03, -9.55869689e-03,\n",
       "         -2.60307431e-02,  1.77709233e-02, -1.06197015e-02,\n",
       "         -8.47143218e-03,  5.85288158e-03, -1.06599329e-02,\n",
       "         -1.20507931e-01,  1.36997752e-01,  9.76091368e-01,\n",
       "          2.21491594e-02, -8.45488407e-02,  6.82661924e-02,\n",
       "         -4.42164356e-02],\n",
       "        [-5.58192904e-05, -2.58877041e-04, -6.69024352e-04,\n",
       "          1.56216897e-03, -3.85890954e-03, -1.21989456e-02,\n",
       "         -3.29939726e-02,  2.25487866e-02, -1.36922820e-02,\n",
       "         -1.13836559e-02,  8.48511468e-03, -2.25601765e-02,\n",
       "         -4.54269262e-01, -8.84803880e-01,  5.81804419e-02,\n",
       "          1.06528636e-02, -5.29675078e-02,  4.59336410e-02,\n",
       "         -3.42674749e-02],\n",
       "        [-1.69576066e-04, -4.29499311e-04, -9.45849673e-04,\n",
       "          2.06508347e-03, -4.95688207e-03, -1.55796378e-02,\n",
       "         -4.24230157e-02,  2.94171578e-02, -1.86780578e-02,\n",
       "         -1.71646760e-02,  1.65088962e-02, -9.54023681e-01,\n",
       "          2.68354136e-01, -1.04615428e-01,  2.95200406e-02,\n",
       "          6.79386605e-03, -3.82752713e-02,  3.42330008e-02,\n",
       "         -2.77100542e-02],\n",
       "        [-2.87727988e-04, -6.14026957e-04, -1.26013526e-03,\n",
       "          2.67020234e-03, -6.37358948e-03, -2.03220324e-02,\n",
       "         -5.66490251e-02,  4.06817235e-02, -2.85931781e-02,\n",
       "         -3.47698522e-02, -9.88278960e-01,  2.57487076e-02,\n",
       "          1.04029807e-01, -5.52424132e-02,  1.95324333e-02,\n",
       "          4.87555409e-03, -2.97394805e-02,  2.70230498e-02,\n",
       "         -2.30642763e-02],\n",
       "        [-4.16431238e-04, -8.24781630e-04, -1.64008862e-03,\n",
       "          3.45412966e-03, -8.37556436e-03, -2.78234297e-02,\n",
       "         -8.17413249e-02,  6.35525152e-02, -5.92178552e-02,\n",
       "          9.89099825e-01, -1.49402729e-02,  1.30014410e-02,\n",
       "          6.43460622e-02, -3.72591383e-02,  1.44439129e-02,\n",
       "          3.73668373e-03, -2.41452428e-02,  2.21349804e-02,\n",
       "         -1.96049511e-02],\n",
       "        [-5.64189008e-04, -1.08059603e-03, -2.13381146e-03,\n",
       "          4.56520806e-03, -1.15710743e-02, -4.21162104e-02,\n",
       "         -1.40415048e-01,  1.38562222e-01,  9.77133021e-01,\n",
       "          3.19361484e-02, -7.28737046e-03,  8.76050360e-03,\n",
       "          4.63630021e-02, -2.79123328e-02,  1.13577464e-02,\n",
       "          2.98738689e-03, -2.01905413e-02,  1.86057259e-02,\n",
       "         -1.69337924e-02],\n",
       "        [-7.44163104e-04, -1.41384757e-03, -2.83494780e-03,\n",
       "          6.34383318e-03, -1.77520939e-02, -8.18676171e-02,\n",
       "         -4.56423365e-01, -8.82980853e-01,  5.27191777e-02,\n",
       "          1.60428101e-02, -4.71879893e-03,  6.61544840e-03,\n",
       "          3.60521621e-02, -2.21699422e-02,  9.28663019e-03,\n",
       "          2.46005761e-03, -1.72460608e-02,  1.59413964e-02,\n",
       "         -1.48133309e-02],\n",
       "        [-9.79128455e-04, -1.88782089e-03, -3.95906438e-03,\n",
       "          9.79929060e-03, -3.56002361e-02, -9.17769997e-01,\n",
       "          3.78222199e-01, -1.06107387e-01,  2.69535019e-02,\n",
       "          1.06138002e-02, -3.43579681e-03,  5.30859799e-03,\n",
       "          2.93450046e-02, -1.82781894e-02,  7.80152627e-03,\n",
       "          2.07081642e-03, -1.49695685e-02,  1.38621327e-02,\n",
       "         -1.30929213e-02],\n",
       "        [-1.31374096e-03, -2.64851639e-03, -6.14734290e-03,\n",
       "          1.98883279e-02, -9.83277944e-01,  1.01900474e-01,\n",
       "          1.34354183e-01, -5.63744597e-02,  1.80068035e-02,\n",
       "          7.86932717e-03, -2.66904440e-03,  4.42316364e-03,\n",
       "          2.46236412e-02, -1.54647259e-02,  6.68571346e-03,\n",
       "          1.77308932e-03, -1.31585078e-02,  1.21972641e-02,\n",
       "         -1.16722497e-02],\n",
       "        [-1.85119274e-03, -4.13102128e-03, -1.25684700e-02,\n",
       "          9.93539054e-01,  3.94411289e-02,  4.84880325e-02,\n",
       "          8.16331338e-02, -3.82642522e-02,  1.34487738e-02,\n",
       "          6.21123192e-03, -2.16078672e-03,  3.78065331e-03,\n",
       "          2.11158363e-02, -1.33357853e-02,  5.81778686e-03,\n",
       "          1.53897813e-03, -1.16850850e-02,  1.08366668e-02,\n",
       "         -1.04818677e-02],\n",
       "        [-2.89939086e-03, -8.49304833e-03, -9.96698969e-01,\n",
       "         -2.14207566e-02,  1.94716465e-02,  3.18110799e-02,\n",
       "          5.84886059e-02, -2.88550302e-02,  1.06798914e-02,\n",
       "          5.10051156e-03, -1.80025257e-03,  3.29161082e-03,\n",
       "          1.84056109e-02, -1.16692197e-02,  5.12437979e-03,\n",
       "          1.35077448e-03, -1.04645479e-02,  9.70603634e-03,\n",
       "         -9.47213706e-03],\n",
       "        [-5.98865367e-03, -9.98050755e-01,  1.34123709e-02,\n",
       "         -1.07025255e-02,  1.29476197e-02,  2.36291341e-02,\n",
       "          4.54333001e-02, -2.30736828e-02,  8.81662937e-03,\n",
       "          4.30447090e-03, -1.53196825e-03,  2.90611001e-03,\n",
       "          1.62486249e-02, -1.03300028e-02,  4.55850496e-03,\n",
       "          1.19671148e-03, -9.43839246e-03,  8.75338554e-03,\n",
       "         -8.60662330e-03],\n",
       "        [-9.98752581e-01,  9.04127348e-03,  6.74684545e-03,\n",
       "         -7.15702265e-03,  9.69271493e-03,  1.87498605e-02,\n",
       "          3.70256050e-02, -1.91526284e-02,  7.47579983e-03,\n",
       "          3.70612645e-03, -1.32508831e-03,  2.59400602e-03,\n",
       "          1.44916807e-02, -9.23122597e-03,  4.08865525e-03,\n",
       "          1.06867468e-03, -8.56488535e-03,  7.94123366e-03,\n",
       "         -7.85797449e-03],\n",
       "        [-6.21545807e-04, -3.31023653e-04,  1.07629209e-05,\n",
       "         -4.03724694e-04,  8.03200199e-04,  8.15993159e-04,\n",
       "         -1.63313427e-03,  3.58288508e-03, -4.51829578e-03,\n",
       "         -5.93023330e-03,  7.79879671e-03,  9.28970967e-03,\n",
       "         -2.48087384e-03,  1.76819297e-02, -2.53462172e-02,\n",
       "         -3.57869237e-02,  8.81412490e-03, -9.98042795e-02,\n",
       "         -9.94610979e-01],\n",
       "        [ 1.35591092e-03,  1.97172442e-03,  2.71073242e-03,\n",
       "         -3.58271383e-03,  4.52307120e-03,  4.72804577e-03,\n",
       "         -1.72448724e-03,  9.04849978e-03, -1.21151250e-02,\n",
       "         -1.58612155e-02,  2.10849019e-02,  2.64825902e-02,\n",
       "         -4.01562221e-03,  5.22188559e-02, -9.34814298e-02,\n",
       "         -2.36433822e-01, -8.42359001e-01,  4.71141788e-01,\n",
       "         -4.44543869e-02],\n",
       "        [ 6.95967290e-03,  8.59540675e-03,  1.06492200e-02,\n",
       "         -1.32231759e-02,  1.63008698e-02,  1.79107467e-02,\n",
       "         -1.52730028e-03,  2.87845255e-02, -4.31759242e-02,\n",
       "         -6.48396264e-02,  1.11912231e-01,  2.73887347e-01,\n",
       "          8.20604109e-01, -4.28011429e-01,  1.72486909e-01,\n",
       "          1.04435086e-01, -9.66835217e-03,  1.03445381e-01,\n",
       "         -2.68493820e-02],\n",
       "        [ 3.45993135e-02,  4.48983945e-02,  6.10971197e-02,\n",
       "         -8.96289898e-02,  1.51196372e-01,  3.45567641e-01,\n",
       "          7.57965921e-01, -4.31469062e-01,  1.99560102e-01,\n",
       "          1.29514537e-01, -9.73812229e-02, -7.40125136e-02,\n",
       "          1.16227043e-03, -6.96524473e-02,  6.68835286e-02,\n",
       "          5.79385392e-02, -5.20574115e-03,  7.10839069e-02,\n",
       "         -2.14320640e-02]]))"
      ]
     },
     "execution_count": 79,
     "metadata": {},
     "output_type": "execute_result"
    }
   ],
   "source": [
    "sLambda, sU"
   ]
  },
  {
   "cell_type": "code",
   "execution_count": 81,
   "id": "3661316c",
   "metadata": {},
   "outputs": [
    {
     "data": {
      "text/plain": [
       "False"
      ]
     },
     "execution_count": 81,
     "metadata": {},
     "output_type": "execute_result"
    }
   ],
   "source": [
    "np.allclose(U, sU)"
   ]
  },
  {
   "cell_type": "code",
   "execution_count": 87,
   "id": "ef2d036c",
   "metadata": {},
   "outputs": [],
   "source": [
    "v=jnp.array([ 1.26105197e+01, -2.09269972e+00, -1.58912585e+00, -7.15306882e-01,\n",
    " -1.01949253e+00, -2.16685269e-01,  6.60950953e-01,  1.09379960e+00,\n",
    "  7.02136291e-02, -1.32866941e-02,  5.15077069e-04,  8.15679489e-01,\n",
    " -5.77050777e-01,  1.35431965e+00, -1.88545218e+00,  7.53681830e-01,\n",
    "  2.23390255e+00, -2.78242778e-01,  2.05914413e+00,  4.56415754e-02])"
   ]
  },
  {
   "cell_type": "code",
   "execution_count": 3,
   "id": "9c4f4202",
   "metadata": {},
   "outputs": [
    {
     "ename": "NameError",
     "evalue": "name 'M' is not defined",
     "output_type": "error",
     "traceback": [
      "\u001b[0;31m---------------------------------------------------------------------------\u001b[0m",
      "\u001b[0;31mNameError\u001b[0m                                 Traceback (most recent call last)",
      "Cell \u001b[0;32mIn [3], line 1\u001b[0m\n\u001b[0;32m----> 1\u001b[0m r \u001b[38;5;241m=\u001b[39m \u001b[43mM\u001b[49m\u001b[38;5;241m.\u001b[39munpackParams(v)\n",
      "\u001b[0;31mNameError\u001b[0m: name 'M' is not defined"
     ]
    }
   ],
   "source": []
  },
  {
   "cell_type": "code",
   "execution_count": 90,
   "id": "a50b572b",
   "metadata": {},
   "outputs": [],
   "source": [
    "nu0_p, n_p = M.AsyFreqModel.asymptotic_nu_p(r['numax'], r['dnu'], r['eps_p'], r['alpha_p'])\n",
    "\n",
    "nu1_p = nu0_p + r['d01']  \n",
    "    \n",
    "nu_g = M.MixFreqModel.asymptotic_nu_g(M.MixFreqModel.n_g, r['DPi0'], r['eps_g'], r['alpha_g'])\n",
    "\n",
    "L, D = M.MixFreqModel.generate_matrices(n_p, M.MixFreqModel.n_g, nu1_p, nu_g, r['p_L'], r['p_D'])"
   ]
  },
  {
   "cell_type": "code",
   "execution_count": 94,
   "id": "780435ff",
   "metadata": {},
   "outputs": [
    {
     "data": {
      "text/plain": [
       "<matplotlib.image.AxesImage at 0x7f465945ef80>"
      ]
     },
     "execution_count": 94,
     "metadata": {},
     "output_type": "execute_result"
    },
    {
     "data": {
      "image/png": "[encoded data removed]",
      "text/plain": [
       "<Figure size 640x480 with 1 Axes>"
      ]
     },
     "metadata": {},
     "output_type": "display_data"
    }
   ],
   "source": [
    "plt.imshow(D)"
   ]
  },
  {
   "cell_type": "code",
   "execution_count": 2,
   "id": "86077490",
   "metadata": {},
   "outputs": [
    {
     "ename": "NameError",
     "evalue": "name 'M' is not defined",
     "output_type": "error",
     "traceback": [
      "\u001b[0;31m---------------------------------------------------------------------------\u001b[0m",
      "\u001b[0;31mNameError\u001b[0m                                 Traceback (most recent call last)",
      "Cell \u001b[0;32mIn [2], line 1\u001b[0m\n\u001b[0;32m----> 1\u001b[0m Lambda, U \u001b[38;5;241m=\u001b[39m \u001b[43mM\u001b[49m\u001b[38;5;241m.\u001b[39mMixFreqModel\u001b[38;5;241m.\u001b[39meigh(L, D)\n",
      "\u001b[0;31mNameError\u001b[0m: name 'M' is not defined"
     ]
    }
   ],
   "source": [
    "Lambda, U = M.MixFreqModel.eigh(L, D)"
   ]
  },
  {
   "cell_type": "code",
   "execution_count": 1,
   "id": "702839a7",
   "metadata": {},
   "outputs": [
    {
     "ename": "NameError",
     "evalue": "name 'Lambda' is not defined",
     "output_type": "error",
     "traceback": [
      "\u001b[0;31m---------------------------------------------------------------------------\u001b[0m",
      "\u001b[0;31mNameError\u001b[0m                                 Traceback (most recent call last)",
      "Cell \u001b[0;32mIn [1], line 1\u001b[0m\n\u001b[0;32m----> 1\u001b[0m \u001b[38;5;241m-\u001b[39m\u001b[43mLambda\u001b[49m\n",
      "\u001b[0;31mNameError\u001b[0m: name 'Lambda' is not defined"
     ]
    }
   ],
   "source": [
    "-Lambda"
   ]
  },
  {
   "cell_type": "code",
   "execution_count": 98,
   "id": "fb79d9e7",
   "metadata": {},
   "outputs": [],
   "source": [
    "sLambda, sU = seigh(L, D)"
   ]
  }
 ],
 "metadata": {
  "kernelspec": {
   "display_name": "Python 3 (ipykernel)",
   "language": "python",
   "name": "python3"
  },
  "language_info": {
   "codemirror_mode": {
    "name": "ipython",
    "version": 3
   },
   "file_extension": ".py",
   "mimetype": "text/x-python",
   "name": "python",
   "nbconvert_exporter": "python",
   "pygments_lexer": "ipython3",
   "version": "3.10.6"
  }
 },
 "nbformat": 4,
 "nbformat_minor": 5
}
